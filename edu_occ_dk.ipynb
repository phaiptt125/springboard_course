{
 "cells": [
  {
   "cell_type": "markdown",
   "metadata": {},
   "source": [
    "## Import python modules "
   ]
  },
  {
   "cell_type": "code",
   "execution_count": 1,
   "metadata": {
    "collapsed": true
   },
   "outputs": [],
   "source": [
    "import os\n",
    "import re\n",
    "import pandas as pd\n",
    "import nltk\n",
    "from collections import Counter"
   ]
  },
  {
   "cell_type": "markdown",
   "metadata": {},
   "source": [
    "## Import data"
   ]
  },
  {
   "cell_type": "code",
   "execution_count": 2,
   "metadata": {},
   "outputs": [
    {
     "name": "stdout",
     "output_type": "stream",
     "text": [
      "total rows = 794\n"
     ]
    },
    {
     "data": {
      "text/html": [
       "<div>\n",
       "<style>\n",
       "    .dataframe thead tr:only-child th {\n",
       "        text-align: right;\n",
       "    }\n",
       "\n",
       "    .dataframe thead th {\n",
       "        text-align: left;\n",
       "    }\n",
       "\n",
       "    .dataframe tbody tr th {\n",
       "        vertical-align: top;\n",
       "    }\n",
       "</style>\n",
       "<table border=\"1\" class=\"dataframe\">\n",
       "  <thead>\n",
       "    <tr style=\"text-align: right;\">\n",
       "      <th></th>\n",
       "      <th>Valid from</th>\n",
       "      <th>Valid until</th>\n",
       "      <th>Code</th>\n",
       "      <th>Text</th>\n",
       "    </tr>\n",
       "  </thead>\n",
       "  <tbody>\n",
       "    <tr>\n",
       "      <th>0</th>\n",
       "      <td>01-01-1600</td>\n",
       "      <td>31-12-9999</td>\n",
       "      <td>0</td>\n",
       "      <td>undisclosed</td>\n",
       "    </tr>\n",
       "    <tr>\n",
       "      <th>1</th>\n",
       "      <td>01-01-1600</td>\n",
       "      <td>31-12-9999</td>\n",
       "      <td>11000</td>\n",
       "      <td>Military / Civil Defense</td>\n",
       "    </tr>\n",
       "    <tr>\n",
       "      <th>2</th>\n",
       "      <td>01-01-1600</td>\n",
       "      <td>31-12-9999</td>\n",
       "      <td>100000</td>\n",
       "      <td>Leadership at the top level in companies, orga...</td>\n",
       "    </tr>\n",
       "    <tr>\n",
       "      <th>3</th>\n",
       "      <td>01-01-1600</td>\n",
       "      <td>31-12-9999</td>\n",
       "      <td>110000</td>\n",
       "      <td>Legislative work and management in public admi...</td>\n",
       "    </tr>\n",
       "    <tr>\n",
       "      <th>4</th>\n",
       "      <td>01-01-1600</td>\n",
       "      <td>31-12-9999</td>\n",
       "      <td>111000</td>\n",
       "      <td>Legislative work and overall administration of...</td>\n",
       "    </tr>\n",
       "    <tr>\n",
       "      <th>5</th>\n",
       "      <td>01-01-1600</td>\n",
       "      <td>31-12-9999</td>\n",
       "      <td>112000</td>\n",
       "      <td>General public management</td>\n",
       "    </tr>\n",
       "    <tr>\n",
       "      <th>6</th>\n",
       "      <td>01-01-1600</td>\n",
       "      <td>31-12-9999</td>\n",
       "      <td>114000</td>\n",
       "      <td>Overall management of interest organizations a...</td>\n",
       "    </tr>\n",
       "    <tr>\n",
       "      <th>7</th>\n",
       "      <td>01-01-1600</td>\n",
       "      <td>31-12-9999</td>\n",
       "      <td>114100</td>\n",
       "      <td>Management of political party organizations</td>\n",
       "    </tr>\n",
       "    <tr>\n",
       "      <th>8</th>\n",
       "      <td>01-01-1600</td>\n",
       "      <td>31-12-9999</td>\n",
       "      <td>114200</td>\n",
       "      <td>Management of economic interest organizations</td>\n",
       "    </tr>\n",
       "    <tr>\n",
       "      <th>9</th>\n",
       "      <td>01-01-1600</td>\n",
       "      <td>31-12-9999</td>\n",
       "      <td>114210</td>\n",
       "      <td>Politically responsible / politically elected ...</td>\n",
       "    </tr>\n",
       "    <tr>\n",
       "      <th>10</th>\n",
       "      <td>01-01-1600</td>\n",
       "      <td>31-12-9999</td>\n",
       "      <td>114220</td>\n",
       "      <td>Employed leaders in economic interest organiza...</td>\n",
       "    </tr>\n",
       "    <tr>\n",
       "      <th>11</th>\n",
       "      <td>01-01-1600</td>\n",
       "      <td>31-12-9999</td>\n",
       "      <td>114300</td>\n",
       "      <td>Management work in humanitarian or other inter...</td>\n",
       "    </tr>\n",
       "    <tr>\n",
       "      <th>12</th>\n",
       "      <td>01-01-1600</td>\n",
       "      <td>31-12-9999</td>\n",
       "      <td>120000</td>\n",
       "      <td>Top management in the company in business with...</td>\n",
       "    </tr>\n",
       "    <tr>\n",
       "      <th>13</th>\n",
       "      <td>01-01-1600</td>\n",
       "      <td>31-12-9999</td>\n",
       "      <td>121000</td>\n",
       "      <td>Management comprising the company as a whole i...</td>\n",
       "    </tr>\n",
       "    <tr>\n",
       "      <th>14</th>\n",
       "      <td>01-01-1600</td>\n",
       "      <td>31-12-9999</td>\n",
       "      <td>121010</td>\n",
       "      <td>Top management level, CEO or equivalent in com...</td>\n",
       "    </tr>\n",
       "    <tr>\n",
       "      <th>15</th>\n",
       "      <td>01-01-1600</td>\n",
       "      <td>31-12-9999</td>\n",
       "      <td>121020</td>\n",
       "      <td>Crossing directors in business with at least 1...</td>\n",
       "    </tr>\n",
       "    <tr>\n",
       "      <th>16</th>\n",
       "      <td>01-01-1600</td>\n",
       "      <td>31-12-9999</td>\n",
       "      <td>122000</td>\n",
       "      <td>Management of the main activity in business wi...</td>\n",
       "    </tr>\n",
       "    <tr>\n",
       "      <th>17</th>\n",
       "      <td>01-01-1600</td>\n",
       "      <td>31-12-9999</td>\n",
       "      <td>122100</td>\n",
       "      <td>Management of the farm in agriculture, forestr...</td>\n",
       "    </tr>\n",
       "    <tr>\n",
       "      <th>18</th>\n",
       "      <td>01-01-1600</td>\n",
       "      <td>31-12-9999</td>\n",
       "      <td>122200</td>\n",
       "      <td>Production management in industrial enterprise...</td>\n",
       "    </tr>\n",
       "    <tr>\n",
       "      <th>19</th>\n",
       "      <td>01-01-1600</td>\n",
       "      <td>31-12-9999</td>\n",
       "      <td>122210</td>\n",
       "      <td>Top management of manufacturing in industrial ...</td>\n",
       "    </tr>\n",
       "  </tbody>\n",
       "</table>\n",
       "</div>"
      ],
      "text/plain": [
       "    Valid from Valid until    Code  \\\n",
       "0   01-01-1600  31-12-9999       0   \n",
       "1   01-01-1600  31-12-9999   11000   \n",
       "2   01-01-1600  31-12-9999  100000   \n",
       "3   01-01-1600  31-12-9999  110000   \n",
       "4   01-01-1600  31-12-9999  111000   \n",
       "5   01-01-1600  31-12-9999  112000   \n",
       "6   01-01-1600  31-12-9999  114000   \n",
       "7   01-01-1600  31-12-9999  114100   \n",
       "8   01-01-1600  31-12-9999  114200   \n",
       "9   01-01-1600  31-12-9999  114210   \n",
       "10  01-01-1600  31-12-9999  114220   \n",
       "11  01-01-1600  31-12-9999  114300   \n",
       "12  01-01-1600  31-12-9999  120000   \n",
       "13  01-01-1600  31-12-9999  121000   \n",
       "14  01-01-1600  31-12-9999  121010   \n",
       "15  01-01-1600  31-12-9999  121020   \n",
       "16  01-01-1600  31-12-9999  122000   \n",
       "17  01-01-1600  31-12-9999  122100   \n",
       "18  01-01-1600  31-12-9999  122200   \n",
       "19  01-01-1600  31-12-9999  122210   \n",
       "\n",
       "                                                 Text  \n",
       "0                                         undisclosed  \n",
       "1                            Military / Civil Defense  \n",
       "2   Leadership at the top level in companies, orga...  \n",
       "3   Legislative work and management in public admi...  \n",
       "4   Legislative work and overall administration of...  \n",
       "5                           General public management  \n",
       "6   Overall management of interest organizations a...  \n",
       "7         Management of political party organizations  \n",
       "8       Management of economic interest organizations  \n",
       "9   Politically responsible / politically elected ...  \n",
       "10  Employed leaders in economic interest organiza...  \n",
       "11  Management work in humanitarian or other inter...  \n",
       "12  Top management in the company in business with...  \n",
       "13  Management comprising the company as a whole i...  \n",
       "14  Top management level, CEO or equivalent in com...  \n",
       "15  Crossing directors in business with at least 1...  \n",
       "16  Management of the main activity in business wi...  \n",
       "17  Management of the farm in agriculture, forestr...  \n",
       "18  Production management in industrial enterprise...  \n",
       "19  Top management of manufacturing in industrial ...  "
      ]
     },
     "execution_count": 2,
     "metadata": {},
     "output_type": "execute_result"
    }
   ],
   "source": [
    "data_filename = 'educ_occ_dk.csv' #Note: I manually saved the file in csv format\n",
    "data = pd.read_csv(data_filename,encoding = 'cp865',header=0)\n",
    "# Note: encoding = 'cp865' is for Danish and Norwegian \n",
    "\n",
    "print('total rows = ' + str(len(data)))\n",
    "data.head(20) #print example"
   ]
  },
  {
   "cell_type": "markdown",
   "metadata": {},
   "source": [
    "## Extract all text and preprocess"
   ]
  },
  {
   "cell_type": "code",
   "execution_count": 3,
   "metadata": {},
   "outputs": [
    {
     "data": {
      "text/plain": [
       "['undisclosed',\n",
       " 'military / civil defense',\n",
       " 'leadership at the top level in companies, organizations and the public sector',\n",
       " 'legislative work and management in public administration and interest organizations',\n",
       " 'legislative work and overall administration of legislation, before 2004 incl.╩overall public management',\n",
       " 'general public management',\n",
       " 'overall management of interest organizations and humanitarian organizations',\n",
       " 'management of political party organizations',\n",
       " 'management of economic interest organizations',\n",
       " 'politically responsible / politically elected leaders in economic interest organizations']"
      ]
     },
     "execution_count": 3,
     "metadata": {},
     "output_type": "execute_result"
    }
   ],
   "source": [
    "all_text = [w.lower() for w in list(data['Text']) if not w==''] \n",
    "#convert to lowercase and remove empty values\n",
    "\n",
    "all_text[:10] #print some examples"
   ]
  },
  {
   "cell_type": "code",
   "execution_count": 4,
   "metadata": {},
   "outputs": [
    {
     "data": {
      "text/plain": [
       "'undisclosed military / civil defense leadership at the top level in companies, organizations and the public sector legislative work and management in public administration and interest organizations legislative work and overall administration of legislation, before 2004 incl.╩overall public management general public management overall management of interest organizations and humanitarian organizations management of political party organizations management of economic interest organizations politically responsible / politically elected leaders in economic interest organizations employed leaders in economic interest organizations management work in humanitarian or other interest groups top management in the company in business with at least 10 employees management comprising the company as a whole in business with at least 10 employees top management level, ceo or equivalent in company with at least 10 employees crossing directors in business with at least 10 employees management of the '"
      ]
     },
     "execution_count": 4,
     "metadata": {},
     "output_type": "execute_result"
    }
   ],
   "source": [
    "all_text = ' '.join(all_text) #combine all text together\n",
    "all_text[:1000] #print top 1000 characters"
   ]
  },
  {
   "cell_type": "code",
   "execution_count": 5,
   "metadata": {},
   "outputs": [],
   "source": [
    "# Note: I have no idea if python text analysis functions work with Danish, so I will remove all Danish characters.\n",
    "\n",
    "# replace all non-ascii characters (e.g., Danish alphabets) with white space\n",
    "all_text_preprocessed = ''.join([i if ord(i) < 128 else ' ' for i in all_text])\n",
    "\n",
    "# replace all numbers with white space\n",
    "all_text_preprocessed = re.sub('\\d+',' ',all_text_preprocessed)\n",
    "\n",
    "# replace all non-alphabetical characters with white space\n",
    "all_text_preprocessed = re.sub('[^a-z ]',' ',all_text_preprocessed)\n",
    "\n",
    "# reset white spaces\n",
    "all_text_preprocessed = ' '.join([w for w in re.split(' ',all_text_preprocessed) if not w==''])\n",
    "\n",
    "# split text into list of words\n",
    "list_all_words = re.split(' ',all_text_preprocessed)"
   ]
  },
  {
   "cell_type": "code",
   "execution_count": 6,
   "metadata": {},
   "outputs": [
    {
     "name": "stdout",
     "output_type": "stream",
     "text": [
      "{'recording', 'leadership', 'accounting', 'process', 'veterinary', 'bookbinder', 'brushbinder', 'agents', 'architectural', 'colleges', 'sign', 'musician', 'whole', 'ceramic', 'picking', 'geophysics', 'security', 'organizing', 'meals', 'cash', 'vegetables', 'like', 'on', 'while', 'aids', 'aviation', 'attorney', 'after', 'masonry', 'warning', 'preparatory', 'fur', 'engines', 'preparation', 'farming', 'treatment', 'housework', 'sociology', 'applications', 'miners', 'responsible', 'aid', 'programming', 'instructor', 'lift', 'wallpaper', 'agencies', 'bakery', 'registration', 'counseling', 'archives', 'commercial', 'forwarding', 'cashier', 'moldmaking', 'hyrevognschauff', 'companies', 'handling', 'hospital', 'claims', 'regular', 'filetering', 'groups', 'hand', 'lower', 'traveling', 'physiology', 'operator', 'dairy', 'management', 'physiotherapist', 'policing', 'requirements', 'services', 'locomotive', 'cabelguy', 'installations', 'statistical', 'technological', 'medicine', 'watch', 'art', 'overall', 'vod', 'low', 'way', 'trading', 'office', 'related', 'works', 'assistants', 'areas', 'programs', 'orders', 'non', 'soap', 'mechanic', 'editorial', 'domestic', 'tire', 'assistant', 'international', 'user', 'bulk', 'surfaces', 'washing', 'phototechnical', 'offices', 'license', 'cranes', 'stock', 'paint', 'tile', 'incidentally', 'in', 'entertainment', 'center', 'creation', 'hotel', 'customer', 'photographer', 'floor', 'secretary', 'distressed', 'scientific', 'chemical', 'motors', 'surveying', 'specialized', 'subjects', 'that', 'calculating', 'gold', 'ammunition', 'enthusiasts', 'quarrying', 'retail', 'pawnshops', 'kitchen', 'wood', 'hardware', 'lorry', 'ceo', 'concepts', 'electrician', 'arts', 'audio', 'example', 'excl', 'craft', 'maintenance', 'equipment', 'refrigeration', 'educational', 'valet', 'assessment', 'shoe', 'making', 'relating', 'other', 'heat', 'plant', 'adult', 'rer', 'interior', 'vehicles', 'legal', 'phone', 'cosmetics', 'sporting', 'stenography', 'course', 'sectors', 'disease', 'fitting', 'cable', 'qualifications', 'level', 'specifications', 'omsorgsarbejde', 'chiropractor', 'ticket', 'defense', 'sale', 'money', 'processing', 'serving', 'industriarbejde', 'sciences', 'undisclosed', 'live', 'poultry', 'bude', 'it', 'evening', 'lifting', 'tailoring', 'pipelines', 'fire', 'coverage', 'rotation', 'requires', 'medical', 'gearbejde', 'engraving', 'goods', 'functions', 'banking', 'motorcycles', 'model', 'singer', 'factory', 'hyrevogne', 'taxes', 'homes', 'laboratories', 'growth', 'ranger', 'barber', 'dry', 'manuals', 'performing', 'group', 'business', 'song', 'specialist', 'for', 'raw', 'plastic', 'excluding', 'bidding', 'mineral', 'water', 'anthropology', 'operations', 'support', 'science', 'second', 'industrial', 'preservation', 'food', 'fittings', 'trains', 'top', 'techniques', 'biological', 'etching', 'placed', 'veterinarian', 'packing', 'television', 'incineration', 'tarmac', 'translation', 'mine', 'general', 'industry', 'training', 'birth', 'advertisements', 'flower', 'premiums', 'sugar', 'financing', 'massager', 'to', 'exhaustion', 'film', 'robot', 'planning', 'sundhedsplejerske', 'electrical', 'prisons', 'occupational', 'year', 'guards', 'religion', 'drilling', 'businesses', 'museum', 'street', 'theater', 'chocolate', 'tourist', 'library', 'sandblasting', 'speaker', 'financial', 'hygienist', 'disabled', 'bookkeeping', 'stocks', 'machine', 'lawyer', 'securities', 'checking', 'entering', 'store', 'industries', 'agricultural', 'configuration', 'junior', 'pictures', 'buses', 'tasks', 'public', 'file', 'coffee', 'technique', 'airports', 'teleprinter', 'analysis', 'internal', 'knowledge', 'concerning', 'handbook', 'employees', 'bonding', 'insurance', 'hygiene', 'inspectorate', 'industrialization', 'telegraph', 'motorcycle', 'cooking', 'agriculture', 'political', 'physiotherapy', 'wastes', 'dental', 'port', 'tankers', 'juice', 'field', 'design', 'montage', 'rarbejde', 'thermal', 'day', 'rowing', 'log', 'airline', 'seat', 'calculations', 'data', 'operation', 'pharmaceutical', 'refining', 'current', 'nursing', 'settlement', 'transportation', 'fine', 'acting', 'musical', 'image', 'immigrants', 'history', 'service', 'farms', 'agronomic', 'internally', 'product', 'circus', 'school', 'safety', 'crafts', 'marking', 'interview', 'studies', 'teaching', 'forming', 'police', 'athletes', 'construction', 'economics', 'livestock', 'psychology', 'gsgartner', 'paperwork', 'correspondence', 'wiring', 'judge', 'ovens', 'quality', 'merchandising', 'main', 'marketing', 'supervision', 'bank', 'r', 'information', 'radio', 'arable', 'regarding', 'furnace', 'fencing', 'produce', 'telecommunications', 'cross', 'professionals', 'company', 'facilities', 'glass', 'warehousing', 'passenger', 'restaurant', 'interest', 'pension', 'writings', 'calculators', 'humanities', 'joinery', 'airplanes', 'carpentry', 'billing', 'bioanalyst', 'roofing', 'spedition', 'mechanical', 'auxiliary', 'sea', 'travel', 'shellfish', 'polishing', 'truck', 'stationary', 'flooring', 'national', 'primary', 'people', 'institutions', 'a', 'video', 'reporting', 'dangerous', 'breeding', 'homework', 'electronics', 'activity', 'case', 'illustrative', 'similar', 'duties', 'operating', 'shoemaker', 'machining', 'astronomy', 'entry', 'supply', 'dissemination', 'machinery', 'fodterapeut', 'revision', 'drawing', 'transactions', 'bridge', 'environmental', 'inshore', 'hospitals', 'mixing', 'organizations', 'removal', 'crane', 'rooms', 'serigraphic', 'by', 'electronic', 'extraction', 'gunpowder', 'zoology', 'spray', 'screen', 'biology', 'paving', 'philosophy', 'development', 'oil', 'hotels', 'buildings', 'during', 'controllers', 'blower', 'dark', 'well', 'editing', 'pharmacology', 'representation', 'yarn', 'or', 'woodwork', 'my', 'porter', 'mobile', 'dancers', 'communication', 'graphical', 'tasting', 'cosmetology', 'agency', 'with', 'chamber', 'terminals', 'scuba', 'of', 'monitoring', 'webmaster', 'schools', 'singers', 'poles', 'beverage', 'civil', 'buntmagerarbejde', 'demonstration', 'standard', 'completed', 'console', 'soil', 'age', 'assistance', 'cleaning', 'tanning', 'systems', 'activities', 'ship', 'credit', 'sector', 'door', 'equivalent', 'engineers', 'than', 'biochemistry', 'crops', 'furniture', 'power', 'fax', 'state', 'telephone', 'handwork', 'employed', 'fewer', 'materials', 'cakes', 'glazing', 'caring', 'driver', 'archive', 'mathematical', 'project', 'slaughterhouse', 'production', 'house', 'wire', 'proofreading', 'passports', 'paralegal', 'corresponding', 'corporate', 'coding', 'printing', 'images', 'pulp', 'anl', 'content', 'meter', 'searching', 'warehouse', 'driving', 'pedigree', 'operational', 'installation', 'metal', 'lines', 'brick', 'midwife', 'cafeteria', 'further', 'manufacture', 'text', 'dtp', 'within', 'luggage', 'brickwork', 'butchering', 'housing', 'incl', 'fitter', 'technical', 'electric', 'consumption', 'adults', 'post', 'cutting', 'universities', 'croupier', 'sports', 'fishing', 'real', 'requiring', 'farmer', 'turning', 'taxis', 'animals', 'bedding', 'petrol', 'voice', 'unloading', 'pathology', 'painting', 'policies', 'medium', 'surveillance', 'master', 'sweeping', 'refuse', 'terrazzo', 'impr', 'filtration', 'horticultural', 'journalistic', 'expression', 'filetation', 'finished', 'architecture', 'basketmaker', 'instrument', 'typing', 'technician', 'interpreting', 'including', 'knitting', 'infrastructure', 'press', 'hotline', 'chemistry', 'savings', 'silversmiths', 'implementation', 'cook', 'light', 'terrazzoarbejde', 'hatmakers', 'thin', 'without', 'tr', 'least', 'freight', 'railway', 'debt', 'crushing', 'legislative', 'features', 'kulsvierarbejde', 'vrachtwagenchauffeurs', 'illustration', 'manager', 'cargo', 'vocational', 'chiropractic', 'forestry', 'strong', 'at', 'illustrations', 'private', 'hunting', 'gas', 'premises', 'botany', 'mail', 'as', 'mill', 'advice', 'gneringsarbejde', 'broadcasts', 'footwear', 'cultural', 'work', 'photographic', 'artist', 'digital', 'linguistics', 'consultants', 'destilleringsarbejde', 'children', 'high', 'flymaskinistarbejde', 'elected', 'porcelain', 'job', 'sheet', 'bus', 'gardening', 'exposures', 'collection', 'mills', 'secondary', 'boiler', 'telegraphy', 'administrative', 'call', 'plumbing', 'residential', 'petting', 'installer', 'dragers', 'carpenters', 'tourism', 'executive', 'templates', 'stonemason', 'slaughter', 'choreographer', 'currency', 'property', 'economy', 'engineering', 'rubber', 'machines', 'award', 'lifts', 'window', 'highest', 'wholesale', 'pharmacy', 'horticulture', 'justice', 'ticketing', 'aircraft', 'advertising', 'inquiries', 'artistic', 'cement', 'organization', 'products', 'fish', 'brokerage', 'pottery', 'automotive', 'tobacco', 'guard', 'social', 'retrieval', 'auto', 'sales', 'meat', 'research', 'geology', 'under', 'system', 'journalism', 'addition', 'concrete', 'operators', 'handicraft', 'aboard', 'car', 'writer', 'shopping', 'etc', 'houses', 'delivery', 'bookmaker', 'methods', 'lights', 'basis', 'except', 'blacksmith', 'jewelery', 'rigger', 'detective', 'mechanics', 'directors', 'administration', 'eg', 'energy', 'party', 'advisory', 'childcare', 'electroplating', 'composition', 'fashion', 'clothing', 'judiciary', 'articles', 'material', 'ships', 'land', 'cinema', 'watchmaking', 'restaurants', 'collector', 'legislation', 'oysters', 'inventory', 'sewage', 'meteorology', 'drivers', 'precision', 'education', 'babysitting', 'foundry', 'special', 'claysmith', 'courier', 'reading', 'idea', 'genetics', 'optometrist', 'plastics', 'crossing', 'lorries', 'leather', 'household', 'brewery', 'municipality', 'loading', 'secretarial', 'ecology', 'personal', 'books', 'separation', 'godstransport', 'the', 'firefighting', 'lending', 'confectionery', 'and', 'grinding', 'decoration', 'fields', 'structures', 'dancer', 'weaving', 'enterprises', 'music', 'economic', 'finance', 'before', 'board', 'diet', 'artists', 'estate', 'investment', 'modeling', 'binding', 'leaders', 'priests', 'include', 'purchase', 'graphic', 'orthopedic', 'tea', 'staff', 'farm', 'manufacturing', 'release', 'language', 'customs', 'rights', 'use', 'trucks', 'finish', 'electrotype', 'experience', 'repository', 'processes', 'visual', 'humanitarian', 'tanker', 'margarine', 'hairdresser', 'molding', 'theories', 'jernbanedrift', 'sewing', 'undertaker', 'journalist', 'stukkat', 'manual', 'comprising', 'painter', 'issuance', 'sheets', 'groceries', 'repair', 'rescue', 'technology', 'personnel', 'air', 'instruction', 'insulation', 'diving', 'processors', 'not', 's', 'is', 'purchasing', 'laboratory', 'environment', 'preschool', 'communications', 'assembly', 'statistics', 'clerk', 'tool', 'from', 'healthcare', 'traffic', 'papermaking', 'culture', 'care', 'natural', 'vans', 'pharmacist', 'cars', 'physics', 'phase', 'crop', 'leatherwork', 'iron', 'conservation', 'switchboard', 'embroidery', 'postman', 'consultancy', 'ol', 'an', 'flowers', 'toolsmith', 'moving', 'reception', 'spinning', 'customization', 'med', 'catering', 'mining', 'steel', 'maritime', 'grant', 'shipping', 'flypilotarbejde', 'craftsmanship', 'setting', 'textile', 'paper', 'news', 'instruments', 'renovation', 'plants', 'military', 'therapist', 'engineer', 'fruit', 'control', 'health', 'computer', 'fisheries', 'politically', 'scaffolding', 'software', 'working', 'shop', 'auditing', 'stereotype', 'building', 'snowshoeing', 'calculation', 'welding', 'vegetable', 'transport', 'database', 'sound', 'professional', 'map', 'economical', 'anatomy', 'electro'}\n"
     ]
    }
   ],
   "source": [
    "print(set(list_all_words)) #all words"
   ]
  },
  {
   "cell_type": "markdown",
   "metadata": {},
   "source": [
    "## Select relevant words\n",
    "According to \"Natural Language Processing with Python\" by Steven Bird, Ewan Klein, and Edward Loper, stopwords are usually \"[words with] little lexical content, and their presence in a text fails to distinguish it from other texts.\" See [here](http://www.nltk.org/book/ch02.html) for more explanations. These words include:"
   ]
  },
  {
   "cell_type": "code",
   "execution_count": 7,
   "metadata": {},
   "outputs": [
    {
     "name": "stdout",
     "output_type": "stream",
     "text": [
      "['i', 'me', 'my', 'myself', 'we', 'our', 'ours', 'ourselves', 'you', 'your', 'yours', 'yourself', 'yourselves', 'he', 'him', 'his', 'himself', 'she', 'her', 'hers', 'herself', 'it', 'its', 'itself', 'they', 'them', 'their', 'theirs', 'themselves', 'what', 'which', 'who', 'whom', 'this', 'that', 'these', 'those', 'am', 'is', 'are', 'was', 'were', 'be', 'been', 'being', 'have', 'has', 'had', 'having', 'do', 'does', 'did', 'doing', 'a', 'an', 'the', 'and', 'but', 'if', 'or', 'because', 'as', 'until', 'while', 'of', 'at', 'by', 'for', 'with', 'about', 'against', 'between', 'into', 'through', 'during', 'before', 'after', 'above', 'below', 'to', 'from', 'up', 'down', 'in', 'out', 'on', 'off', 'over', 'under', 'again', 'further', 'then', 'once', 'here', 'there', 'when', 'where', 'why', 'how', 'all', 'any', 'both', 'each', 'few', 'more', 'most', 'other', 'some', 'such', 'no', 'nor', 'not', 'only', 'own', 'same', 'so', 'than', 'too', 'very', 's', 't', 'can', 'will', 'just', 'don', 'should', 'now', 'd', 'll', 'm', 'o', 're', 've', 'y', 'ain', 'aren', 'couldn', 'didn', 'doesn', 'hadn', 'hasn', 'haven', 'isn', 'ma', 'mightn', 'mustn', 'needn', 'shan', 'shouldn', 'wasn', 'weren', 'won', 'wouldn']\n"
     ]
    }
   ],
   "source": [
    "from nltk.corpus import stopwords\n",
    "print(list(stopwords.words('english')))"
   ]
  },
  {
   "cell_type": "code",
   "execution_count": 8,
   "metadata": {},
   "outputs": [
    {
     "name": "stdout",
     "output_type": "stream",
     "text": [
      "Total unique number of words = 3350\n"
     ]
    },
    {
     "data": {
      "text/html": [
       "<div>\n",
       "<style>\n",
       "    .dataframe thead tr:only-child th {\n",
       "        text-align: right;\n",
       "    }\n",
       "\n",
       "    .dataframe thead th {\n",
       "        text-align: left;\n",
       "    }\n",
       "\n",
       "    .dataframe tbody tr th {\n",
       "        vertical-align: top;\n",
       "    }\n",
       "</style>\n",
       "<table border=\"1\" class=\"dataframe\">\n",
       "  <thead>\n",
       "    <tr style=\"text-align: right;\">\n",
       "      <th></th>\n",
       "      <th>word</th>\n",
       "      <th>count</th>\n",
       "    </tr>\n",
       "  </thead>\n",
       "  <tbody>\n",
       "    <tr>\n",
       "      <th>0</th>\n",
       "      <td>work</td>\n",
       "      <td>414</td>\n",
       "    </tr>\n",
       "    <tr>\n",
       "      <th>1</th>\n",
       "      <td>management</td>\n",
       "      <td>61</td>\n",
       "    </tr>\n",
       "    <tr>\n",
       "      <th>2</th>\n",
       "      <td>operation</td>\n",
       "      <td>53</td>\n",
       "    </tr>\n",
       "    <tr>\n",
       "      <th>3</th>\n",
       "      <td>employees</td>\n",
       "      <td>49</td>\n",
       "    </tr>\n",
       "    <tr>\n",
       "      <th>4</th>\n",
       "      <td>etc</td>\n",
       "      <td>46</td>\n",
       "    </tr>\n",
       "    <tr>\n",
       "      <th>5</th>\n",
       "      <td>business</td>\n",
       "      <td>39</td>\n",
       "    </tr>\n",
       "    <tr>\n",
       "      <th>6</th>\n",
       "      <td>machines</td>\n",
       "      <td>37</td>\n",
       "    </tr>\n",
       "    <tr>\n",
       "      <th>7</th>\n",
       "      <td>least</td>\n",
       "      <td>30</td>\n",
       "    </tr>\n",
       "    <tr>\n",
       "      <th>8</th>\n",
       "      <td>production</td>\n",
       "      <td>30</td>\n",
       "    </tr>\n",
       "    <tr>\n",
       "      <th>9</th>\n",
       "      <td>transport</td>\n",
       "      <td>27</td>\n",
       "    </tr>\n",
       "  </tbody>\n",
       "</table>\n",
       "</div>"
      ],
      "text/plain": [
       "         word  count\n",
       "0        work    414\n",
       "1  management     61\n",
       "2   operation     53\n",
       "3   employees     49\n",
       "4         etc     46\n",
       "5    business     39\n",
       "6    machines     37\n",
       "7       least     30\n",
       "8  production     30\n",
       "9   transport     27"
      ]
     },
     "execution_count": 8,
     "metadata": {},
     "output_type": "execute_result"
    }
   ],
   "source": [
    "# remove stopwords\n",
    "selected_words = [w for w in list_all_words if not w in stopwords.words('english')]\n",
    "print('Total unique number of words = ' + str(len(selected_words)))\n",
    "\n",
    "# count the rest\n",
    "count_words = [w for w in Counter(selected_words).most_common()]\n",
    "count_words = pd.DataFrame(count_words, columns = ['word','count'])\n",
    "\n",
    "# export to csv file\n",
    "count_words.to_csv('count_words.csv',index = False)\n",
    "\n",
    "# print some examples\n",
    "count_words.head(10)"
   ]
  }
 ],
 "metadata": {
  "kernelspec": {
   "display_name": "Python 3",
   "language": "python",
   "name": "python3"
  },
  "language_info": {
   "codemirror_mode": {
    "name": "ipython",
    "version": 3
   },
   "file_extension": ".py",
   "mimetype": "text/x-python",
   "name": "python",
   "nbconvert_exporter": "python",
   "pygments_lexer": "ipython3",
   "version": "3.6.1"
  }
 },
 "nbformat": 4,
 "nbformat_minor": 2
}
