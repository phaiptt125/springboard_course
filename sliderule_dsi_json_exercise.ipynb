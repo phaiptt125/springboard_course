{
 "cells": [
  {
   "cell_type": "markdown",
   "metadata": {},
   "source": [
    "****\n",
    "## JSON exercise\n",
    "\n",
    "Using data in file 'data/world_bank_projects.json' and the techniques demonstrated above,\n",
    "1. Find the 10 countries with most projects\n",
    "2. Find the top 10 major project themes (using column 'mjtheme_namecode')\n",
    "3. In 2. above you will notice that some entries have only the code and the name is missing. Create a dataframe with the missing names filled in."
   ]
  },
  {
   "cell_type": "code",
   "execution_count": 1,
   "metadata": {
    "collapsed": false,
    "scrolled": true
   },
   "outputs": [
    {
     "data": {
      "text/html": [
       "<div>\n",
       "<table border=\"1\" class=\"dataframe\">\n",
       "  <thead>\n",
       "    <tr style=\"text-align: right;\">\n",
       "      <th></th>\n",
       "      <th>_id.$oid</th>\n",
       "      <th>approvalfy</th>\n",
       "      <th>board_approval_month</th>\n",
       "      <th>boardapprovaldate</th>\n",
       "      <th>borrower</th>\n",
       "      <th>closingdate</th>\n",
       "      <th>country_namecode</th>\n",
       "      <th>countrycode</th>\n",
       "      <th>countryname</th>\n",
       "      <th>countryshortname</th>\n",
       "      <th>...</th>\n",
       "      <th>source</th>\n",
       "      <th>status</th>\n",
       "      <th>supplementprojectflg</th>\n",
       "      <th>theme1.Name</th>\n",
       "      <th>theme1.Percent</th>\n",
       "      <th>theme_namecode</th>\n",
       "      <th>themecode</th>\n",
       "      <th>totalamt</th>\n",
       "      <th>totalcommamt</th>\n",
       "      <th>url</th>\n",
       "    </tr>\n",
       "  </thead>\n",
       "  <tbody>\n",
       "    <tr>\n",
       "      <th>0</th>\n",
       "      <td>52b213b38594d8a2be17c780</td>\n",
       "      <td>1999</td>\n",
       "      <td>November</td>\n",
       "      <td>2013-11-12T00:00:00Z</td>\n",
       "      <td>FEDERAL DEMOCRATIC REPUBLIC OF ETHIOPIA</td>\n",
       "      <td>2018-07-07T00:00:00Z</td>\n",
       "      <td>Federal Democratic Republic of Ethiopia!$!ET</td>\n",
       "      <td>ET</td>\n",
       "      <td>Federal Democratic Republic of Ethiopia</td>\n",
       "      <td>Ethiopia</td>\n",
       "      <td>...</td>\n",
       "      <td>IBRD</td>\n",
       "      <td>Active</td>\n",
       "      <td>N</td>\n",
       "      <td>Education for all</td>\n",
       "      <td>100</td>\n",
       "      <td>[{'code': '65', 'name': 'Education for all'}]</td>\n",
       "      <td>65</td>\n",
       "      <td>130000000</td>\n",
       "      <td>130000000</td>\n",
       "      <td>http://www.worldbank.org/projects/P129828/ethi...</td>\n",
       "    </tr>\n",
       "    <tr>\n",
       "      <th>1</th>\n",
       "      <td>52b213b38594d8a2be17c781</td>\n",
       "      <td>2015</td>\n",
       "      <td>November</td>\n",
       "      <td>2013-11-04T00:00:00Z</td>\n",
       "      <td>GOVERNMENT OF TUNISIA</td>\n",
       "      <td>NaN</td>\n",
       "      <td>Republic of Tunisia!$!TN</td>\n",
       "      <td>TN</td>\n",
       "      <td>Republic of Tunisia</td>\n",
       "      <td>Tunisia</td>\n",
       "      <td>...</td>\n",
       "      <td>IBRD</td>\n",
       "      <td>Active</td>\n",
       "      <td>N</td>\n",
       "      <td>Other economic management</td>\n",
       "      <td>30</td>\n",
       "      <td>[{'code': '24', 'name': 'Other economic manage...</td>\n",
       "      <td>54,24</td>\n",
       "      <td>0</td>\n",
       "      <td>4700000</td>\n",
       "      <td>http://www.worldbank.org/projects/P144674?lang=en</td>\n",
       "    </tr>\n",
       "    <tr>\n",
       "      <th>2</th>\n",
       "      <td>52b213b38594d8a2be17c782</td>\n",
       "      <td>2014</td>\n",
       "      <td>November</td>\n",
       "      <td>2013-11-01T00:00:00Z</td>\n",
       "      <td>MINISTRY OF FINANCE AND ECONOMIC DEVEL</td>\n",
       "      <td>NaN</td>\n",
       "      <td>Tuvalu!$!TV</td>\n",
       "      <td>TV</td>\n",
       "      <td>Tuvalu</td>\n",
       "      <td>Tuvalu</td>\n",
       "      <td>...</td>\n",
       "      <td>IBRD</td>\n",
       "      <td>Active</td>\n",
       "      <td>Y</td>\n",
       "      <td>Regional integration</td>\n",
       "      <td>46</td>\n",
       "      <td>[{'code': '47', 'name': 'Regional integration'...</td>\n",
       "      <td>52,81,25,47</td>\n",
       "      <td>6060000</td>\n",
       "      <td>6060000</td>\n",
       "      <td>http://www.worldbank.org/projects/P145310?lang=en</td>\n",
       "    </tr>\n",
       "    <tr>\n",
       "      <th>3</th>\n",
       "      <td>52b213b38594d8a2be17c783</td>\n",
       "      <td>2014</td>\n",
       "      <td>October</td>\n",
       "      <td>2013-10-31T00:00:00Z</td>\n",
       "      <td>MIN. OF PLANNING AND INT'L COOPERATION</td>\n",
       "      <td>NaN</td>\n",
       "      <td>Republic of Yemen!$!RY</td>\n",
       "      <td>RY</td>\n",
       "      <td>Republic of Yemen</td>\n",
       "      <td>Yemen, Republic of</td>\n",
       "      <td>...</td>\n",
       "      <td>IBRD</td>\n",
       "      <td>Active</td>\n",
       "      <td>N</td>\n",
       "      <td>Participation and civic engagement</td>\n",
       "      <td>50</td>\n",
       "      <td>[{'code': '57', 'name': 'Participation and civ...</td>\n",
       "      <td>59,57</td>\n",
       "      <td>0</td>\n",
       "      <td>1500000</td>\n",
       "      <td>http://www.worldbank.org/projects/P144665?lang=en</td>\n",
       "    </tr>\n",
       "    <tr>\n",
       "      <th>4</th>\n",
       "      <td>52b213b38594d8a2be17c784</td>\n",
       "      <td>2014</td>\n",
       "      <td>October</td>\n",
       "      <td>2013-10-31T00:00:00Z</td>\n",
       "      <td>MINISTRY OF FINANCE</td>\n",
       "      <td>2019-04-30T00:00:00Z</td>\n",
       "      <td>Kingdom of Lesotho!$!LS</td>\n",
       "      <td>LS</td>\n",
       "      <td>Kingdom of Lesotho</td>\n",
       "      <td>Lesotho</td>\n",
       "      <td>...</td>\n",
       "      <td>IBRD</td>\n",
       "      <td>Active</td>\n",
       "      <td>N</td>\n",
       "      <td>Export development and competitiveness</td>\n",
       "      <td>30</td>\n",
       "      <td>[{'code': '45', 'name': 'Export development an...</td>\n",
       "      <td>41,45</td>\n",
       "      <td>13100000</td>\n",
       "      <td>13100000</td>\n",
       "      <td>http://www.worldbank.org/projects/P144933/seco...</td>\n",
       "    </tr>\n",
       "  </tbody>\n",
       "</table>\n",
       "<p>5 rows × 55 columns</p>\n",
       "</div>"
      ],
      "text/plain": [
       "                   _id.$oid approvalfy board_approval_month  \\\n",
       "0  52b213b38594d8a2be17c780       1999             November   \n",
       "1  52b213b38594d8a2be17c781       2015             November   \n",
       "2  52b213b38594d8a2be17c782       2014             November   \n",
       "3  52b213b38594d8a2be17c783       2014              October   \n",
       "4  52b213b38594d8a2be17c784       2014              October   \n",
       "\n",
       "      boardapprovaldate                                 borrower  \\\n",
       "0  2013-11-12T00:00:00Z  FEDERAL DEMOCRATIC REPUBLIC OF ETHIOPIA   \n",
       "1  2013-11-04T00:00:00Z                    GOVERNMENT OF TUNISIA   \n",
       "2  2013-11-01T00:00:00Z   MINISTRY OF FINANCE AND ECONOMIC DEVEL   \n",
       "3  2013-10-31T00:00:00Z   MIN. OF PLANNING AND INT'L COOPERATION   \n",
       "4  2013-10-31T00:00:00Z                      MINISTRY OF FINANCE   \n",
       "\n",
       "            closingdate                              country_namecode  \\\n",
       "0  2018-07-07T00:00:00Z  Federal Democratic Republic of Ethiopia!$!ET   \n",
       "1                   NaN                      Republic of Tunisia!$!TN   \n",
       "2                   NaN                                   Tuvalu!$!TV   \n",
       "3                   NaN                        Republic of Yemen!$!RY   \n",
       "4  2019-04-30T00:00:00Z                       Kingdom of Lesotho!$!LS   \n",
       "\n",
       "  countrycode                              countryname    countryshortname  \\\n",
       "0          ET  Federal Democratic Republic of Ethiopia            Ethiopia   \n",
       "1          TN                      Republic of Tunisia             Tunisia   \n",
       "2          TV                                   Tuvalu              Tuvalu   \n",
       "3          RY                        Republic of Yemen  Yemen, Republic of   \n",
       "4          LS                       Kingdom of Lesotho             Lesotho   \n",
       "\n",
       "                         ...                         source  status  \\\n",
       "0                        ...                           IBRD  Active   \n",
       "1                        ...                           IBRD  Active   \n",
       "2                        ...                           IBRD  Active   \n",
       "3                        ...                           IBRD  Active   \n",
       "4                        ...                           IBRD  Active   \n",
       "\n",
       "   supplementprojectflg                             theme1.Name  \\\n",
       "0                     N                       Education for all   \n",
       "1                     N               Other economic management   \n",
       "2                     Y                    Regional integration   \n",
       "3                     N      Participation and civic engagement   \n",
       "4                     N  Export development and competitiveness   \n",
       "\n",
       "  theme1.Percent                                     theme_namecode  \\\n",
       "0            100      [{'code': '65', 'name': 'Education for all'}]   \n",
       "1             30  [{'code': '24', 'name': 'Other economic manage...   \n",
       "2             46  [{'code': '47', 'name': 'Regional integration'...   \n",
       "3             50  [{'code': '57', 'name': 'Participation and civ...   \n",
       "4             30  [{'code': '45', 'name': 'Export development an...   \n",
       "\n",
       "     themecode   totalamt totalcommamt  \\\n",
       "0           65  130000000    130000000   \n",
       "1        54,24          0      4700000   \n",
       "2  52,81,25,47    6060000      6060000   \n",
       "3        59,57          0      1500000   \n",
       "4        41,45   13100000     13100000   \n",
       "\n",
       "                                                 url  \n",
       "0  http://www.worldbank.org/projects/P129828/ethi...  \n",
       "1  http://www.worldbank.org/projects/P144674?lang=en  \n",
       "2  http://www.worldbank.org/projects/P145310?lang=en  \n",
       "3  http://www.worldbank.org/projects/P144665?lang=en  \n",
       "4  http://www.worldbank.org/projects/P144933/seco...  \n",
       "\n",
       "[5 rows x 55 columns]"
      ]
     },
     "execution_count": 1,
     "metadata": {},
     "output_type": "execute_result"
    }
   ],
   "source": [
    "import json\n",
    "import pandas as pd\n",
    "from pandas.io.json import json_normalize\n",
    "\n",
    "jsondata = json.load(open('data/world_bank_projects.json')) \n",
    "df = json_normalize(jsondata) # load json into pandas\n",
    "\n",
    "df.head() # first, let's see some obs"
   ]
  },
  {
   "cell_type": "code",
   "execution_count": 2,
   "metadata": {
    "collapsed": false
   },
   "outputs": [
    {
     "data": {
      "text/plain": [
       "500"
      ]
     },
     "execution_count": 2,
     "metadata": {},
     "output_type": "execute_result"
    }
   ],
   "source": [
    "len(df) # check number of observations (projects)"
   ]
  },
  {
   "cell_type": "code",
   "execution_count": 3,
   "metadata": {
    "collapsed": false
   },
   "outputs": [
    {
     "data": {
      "text/plain": [
       "[]"
      ]
     },
     "execution_count": 3,
     "metadata": {},
     "output_type": "execute_result"
    }
   ],
   "source": [
    "df.index.get_duplicates() # check if there is no duplicate"
   ]
  },
  {
   "cell_type": "code",
   "execution_count": 4,
   "metadata": {
    "collapsed": false,
    "scrolled": true
   },
   "outputs": [
    {
     "data": {
      "text/plain": [
       "['_id.$oid',\n",
       " 'approvalfy',\n",
       " 'board_approval_month',\n",
       " 'boardapprovaldate',\n",
       " 'borrower',\n",
       " 'closingdate',\n",
       " 'country_namecode',\n",
       " 'countrycode',\n",
       " 'countryname',\n",
       " 'countryshortname',\n",
       " 'docty',\n",
       " 'envassesmentcategorycode',\n",
       " 'grantamt',\n",
       " 'ibrdcommamt',\n",
       " 'id',\n",
       " 'idacommamt',\n",
       " 'impagency',\n",
       " 'lendinginstr',\n",
       " 'lendinginstrtype',\n",
       " 'lendprojectcost',\n",
       " 'majorsector_percent',\n",
       " 'mjsector_namecode',\n",
       " 'mjtheme',\n",
       " 'mjtheme_namecode',\n",
       " 'mjthemecode',\n",
       " 'prodline',\n",
       " 'prodlinetext',\n",
       " 'productlinetype',\n",
       " 'project_abstract.cdata',\n",
       " 'project_name',\n",
       " 'projectdocs',\n",
       " 'projectfinancialtype',\n",
       " 'projectstatusdisplay',\n",
       " 'regionname',\n",
       " 'sector',\n",
       " 'sector1.Name',\n",
       " 'sector1.Percent',\n",
       " 'sector2.Name',\n",
       " 'sector2.Percent',\n",
       " 'sector3.Name',\n",
       " 'sector3.Percent',\n",
       " 'sector4.Name',\n",
       " 'sector4.Percent',\n",
       " 'sector_namecode',\n",
       " 'sectorcode',\n",
       " 'source',\n",
       " 'status',\n",
       " 'supplementprojectflg',\n",
       " 'theme1.Name',\n",
       " 'theme1.Percent',\n",
       " 'theme_namecode',\n",
       " 'themecode',\n",
       " 'totalamt',\n",
       " 'totalcommamt',\n",
       " 'url']"
      ]
     },
     "execution_count": 4,
     "metadata": {},
     "output_type": "execute_result"
    }
   ],
   "source": [
    "# see the list of all variables.\n",
    "df.columns.values.tolist()"
   ]
  },
  {
   "cell_type": "code",
   "execution_count": 5,
   "metadata": {
    "collapsed": false
   },
   "outputs": [
    {
     "data": {
      "text/html": [
       "<div>\n",
       "<table border=\"1\" class=\"dataframe\">\n",
       "  <thead>\n",
       "    <tr style=\"text-align: right;\">\n",
       "      <th></th>\n",
       "      <th>mjtheme_namecode</th>\n",
       "      <th>countryname</th>\n",
       "      <th>_id.$oid</th>\n",
       "    </tr>\n",
       "  </thead>\n",
       "  <tbody>\n",
       "    <tr>\n",
       "      <th>0</th>\n",
       "      <td>[{'code': '8', 'name': 'Human development'}, {...</td>\n",
       "      <td>Federal Democratic Republic of Ethiopia</td>\n",
       "      <td>52b213b38594d8a2be17c780</td>\n",
       "    </tr>\n",
       "    <tr>\n",
       "      <th>1</th>\n",
       "      <td>[{'code': '1', 'name': 'Economic management'},...</td>\n",
       "      <td>Republic of Tunisia</td>\n",
       "      <td>52b213b38594d8a2be17c781</td>\n",
       "    </tr>\n",
       "    <tr>\n",
       "      <th>2</th>\n",
       "      <td>[{'code': '5', 'name': 'Trade and integration'...</td>\n",
       "      <td>Tuvalu</td>\n",
       "      <td>52b213b38594d8a2be17c782</td>\n",
       "    </tr>\n",
       "    <tr>\n",
       "      <th>3</th>\n",
       "      <td>[{'code': '7', 'name': 'Social dev/gender/incl...</td>\n",
       "      <td>Republic of Yemen</td>\n",
       "      <td>52b213b38594d8a2be17c783</td>\n",
       "    </tr>\n",
       "    <tr>\n",
       "      <th>4</th>\n",
       "      <td>[{'code': '5', 'name': 'Trade and integration'...</td>\n",
       "      <td>Kingdom of Lesotho</td>\n",
       "      <td>52b213b38594d8a2be17c784</td>\n",
       "    </tr>\n",
       "  </tbody>\n",
       "</table>\n",
       "</div>"
      ],
      "text/plain": [
       "                                    mjtheme_namecode  \\\n",
       "0  [{'code': '8', 'name': 'Human development'}, {...   \n",
       "1  [{'code': '1', 'name': 'Economic management'},...   \n",
       "2  [{'code': '5', 'name': 'Trade and integration'...   \n",
       "3  [{'code': '7', 'name': 'Social dev/gender/incl...   \n",
       "4  [{'code': '5', 'name': 'Trade and integration'...   \n",
       "\n",
       "                               countryname                  _id.$oid  \n",
       "0  Federal Democratic Republic of Ethiopia  52b213b38594d8a2be17c780  \n",
       "1                      Republic of Tunisia  52b213b38594d8a2be17c781  \n",
       "2                                   Tuvalu  52b213b38594d8a2be17c782  \n",
       "3                        Republic of Yemen  52b213b38594d8a2be17c783  \n",
       "4                       Kingdom of Lesotho  52b213b38594d8a2be17c784  "
      ]
     },
     "execution_count": 5,
     "metadata": {},
     "output_type": "execute_result"
    }
   ],
   "source": [
    "# It looks like we need 3 variables 'mjtheme_namecode', 'countryname', '_id.$oid'. \n",
    "# '_id.$oid' seems like an identifier of a project, which should be unique along obs.\n",
    "# 'countryname' seems like a name of a country.\n",
    "# 'mjtheme_namecode' is major project theme (given by the question).  \n",
    "df[['mjtheme_namecode', 'countryname', '_id.$oid']].head()"
   ]
  },
  {
   "cell_type": "code",
   "execution_count": 6,
   "metadata": {
    "collapsed": false
   },
   "outputs": [
    {
     "data": {
      "text/plain": [
       "0"
      ]
     },
     "execution_count": 6,
     "metadata": {},
     "output_type": "execute_result"
    }
   ],
   "source": [
    "# Check '_id.$oid' variable. This variable should be unique by observation \n",
    "df['_id.$oid'].isnull().values.ravel().sum() # check how many obs with missing '_id.$oid'"
   ]
  },
  {
   "cell_type": "code",
   "execution_count": 7,
   "metadata": {
    "collapsed": false
   },
   "outputs": [
    {
     "data": {
      "text/plain": [
       "[]"
      ]
     },
     "execution_count": 7,
     "metadata": {},
     "output_type": "execute_result"
    }
   ],
   "source": [
    "df['_id.$oid'].index.get_duplicates() # check duplicating _id.$oid'"
   ]
  },
  {
   "cell_type": "code",
   "execution_count": 8,
   "metadata": {
    "collapsed": false,
    "scrolled": true
   },
   "outputs": [
    {
     "data": {
      "text/html": [
       "<div>\n",
       "<table border=\"1\" class=\"dataframe\">\n",
       "  <thead>\n",
       "    <tr style=\"text-align: right;\">\n",
       "      <th></th>\n",
       "      <th>countryname</th>\n",
       "    </tr>\n",
       "    <tr>\n",
       "      <th>_id.$oid</th>\n",
       "      <th></th>\n",
       "    </tr>\n",
       "  </thead>\n",
       "  <tbody>\n",
       "    <tr>\n",
       "      <th>52b213b38594d8a2be17c780</th>\n",
       "      <td>Federal Democratic Republic of Ethiopia</td>\n",
       "    </tr>\n",
       "    <tr>\n",
       "      <th>52b213b38594d8a2be17c781</th>\n",
       "      <td>Republic of Tunisia</td>\n",
       "    </tr>\n",
       "    <tr>\n",
       "      <th>52b213b38594d8a2be17c782</th>\n",
       "      <td>Tuvalu</td>\n",
       "    </tr>\n",
       "    <tr>\n",
       "      <th>52b213b38594d8a2be17c783</th>\n",
       "      <td>Republic of Yemen</td>\n",
       "    </tr>\n",
       "    <tr>\n",
       "      <th>52b213b38594d8a2be17c784</th>\n",
       "      <td>Kingdom of Lesotho</td>\n",
       "    </tr>\n",
       "  </tbody>\n",
       "</table>\n",
       "</div>"
      ],
      "text/plain": [
       "                                                      countryname\n",
       "_id.$oid                                                         \n",
       "52b213b38594d8a2be17c780  Federal Democratic Republic of Ethiopia\n",
       "52b213b38594d8a2be17c781                      Republic of Tunisia\n",
       "52b213b38594d8a2be17c782                                   Tuvalu\n",
       "52b213b38594d8a2be17c783                        Republic of Yemen\n",
       "52b213b38594d8a2be17c784                       Kingdom of Lesotho"
      ]
     },
     "execution_count": 8,
     "metadata": {},
     "output_type": "execute_result"
    }
   ],
   "source": [
    "# '_id.$oid' seems like a valid identifier so we can proceed and assign index to our dataframe. \n",
    "df = df.set_index(df['_id.$oid']) \n",
    "df[['countryname']].head() "
   ]
  },
  {
   "cell_type": "code",
   "execution_count": 9,
   "metadata": {
    "collapsed": false
   },
   "outputs": [
    {
     "data": {
      "text/plain": [
       "array(['Federal Democratic Republic of Ethiopia', 'Republic of Tunisia',\n",
       "       'Tuvalu', 'Republic of Yemen', 'Kingdom of Lesotho',\n",
       "       'Republic of Kenya', 'Republic of India',\n",
       "       \"People's Republic of China\", 'Kingdom of Morocco',\n",
       "       'Republic of South Sudan', 'Republic of Ghana',\n",
       "       'Democratic Republic of Timor-Leste', 'Hashemite Kingdom of Jordan',\n",
       "       'Samoa', 'Republic of Madagascar', 'Kingdom of Cambodia',\n",
       "       'Kyrgyz Republic', 'Nepal', 'Republic of Tajikistan',\n",
       "       'Republic of Azerbaijan', 'East Asia and Pacific',\n",
       "       \"Lao People's Democratic Republic\", 'Pacific Islands',\n",
       "       'Solomon Islands', 'Republic of Mozambique',\n",
       "       \"People's Republic of Angola\", 'United Republic of Tanzania',\n",
       "       'Federal Republic of Nigeria', 'Republic of Seychelles',\n",
       "       \"People's Republic of Bangladesh\", 'Republic of Senegal',\n",
       "       'Republic of the Union of Myanmar', 'West Bank and Gaza',\n",
       "       'Argentine Republic', 'Republic of The Gambia',\n",
       "       'Russian Federation', 'Republic of Congo',\n",
       "       'Democratic Republic of Sao Tome and Prin', 'Africa', 'Ukraine',\n",
       "       'Union of the Comoros', 'Republic of Colombia',\n",
       "       \"Republic of Cote d'Ivoire\", 'Republic of Sierra Leone', 'World',\n",
       "       'Republic of Peru', 'Republic of Ecuador', 'Republic of Honduras',\n",
       "       'Islamic State of Afghanistan', 'Islamic Republic of Mauritania',\n",
       "       'Lebanese Republic', 'Burkina Faso',\n",
       "       'Republic of the Marshall Islands', 'Republic of Liberia',\n",
       "       'Republic of Zimbabwe', 'Republic of Mali', 'Republic of Indonesia',\n",
       "       'Republic of Armenia', 'Republic of Guinea', 'South Asia',\n",
       "       'Republic of Kazakhstan', 'Arab Republic of Egypt',\n",
       "       'Republic of Croatia', 'Georgia', 'Republic of Turkey',\n",
       "       'Federative Republic of Brazil', 'Republic of Cape Verde',\n",
       "       'Republic of Benin', 'Republic of Chad', 'Republic of Haiti',\n",
       "       'Republic of Poland', 'Middle East and North Africa',\n",
       "       'Republic of Albania', 'Republic of Vanuatu',\n",
       "       'Democratic Republic of the Congo', 'Republic of Cameroon',\n",
       "       'Republic of Chile', 'Republic of Belarus',\n",
       "       'Islamic Republic of Pakistan', 'Antigua and Barbuda',\n",
       "       'Republic of Djibouti', 'Mongolia', 'Republic of Togo',\n",
       "       'Socialist Republic of Vietnam', 'Republic of Niger',\n",
       "       'Republic of Zambia', 'Republic of the Sudan', 'Republic of Malawi',\n",
       "       'Republic of Uganda', 'Kingdom of Bhutan', 'Republic of Moldova',\n",
       "       'Republic of Rwanda', 'Republic of Kosovo',\n",
       "       'Macedonia, former Yugoslav Republic of', 'Republic of Burundi',\n",
       "       'Republic of Maldives', 'Republic of Serbia', 'Romania',\n",
       "       'Republic of Uzbekistan', 'Republic of Nicaragua',\n",
       "       'The Independent State of Papua New Guine',\n",
       "       'Democratic Socialist Republic of Sri Lan', 'Republic of Mauritius',\n",
       "       'Republic of Panama', 'Republic of the Philippines',\n",
       "       'Republic of Kiribati', 'Kingdom of Thailand',\n",
       "       'Europe and Central Asia', 'Republic of Namibia',\n",
       "       'Central African Republic', 'United Mexican States',\n",
       "       'Kingdom of Tonga', 'Oriental Republic of Uruguay', 'Jamaica',\n",
       "       'Bosnia and Herzegovina', 'Plurinational State of Bolivia',\n",
       "       'Republic of Costa Rica', 'Republic of Guatemala'], dtype=object)"
      ]
     },
     "execution_count": 9,
     "metadata": {},
     "output_type": "execute_result"
    }
   ],
   "source": [
    "# [Question 1]: First, check if 'countryname' is actually a country name.  \n",
    "df['countryname'].unique() "
   ]
  },
  {
   "cell_type": "code",
   "execution_count": 10,
   "metadata": {
    "collapsed": false
   },
   "outputs": [
    {
     "data": {
      "text/plain": [
       "0"
      ]
     },
     "execution_count": 10,
     "metadata": {},
     "output_type": "execute_result"
    }
   ],
   "source": [
    "# Variable 'country' seems to be what we need. \n",
    "# Next, let's check how many projects that do not have 'countryname'.\n",
    "df['countryname'].isnull().values.ravel().sum()"
   ]
  },
  {
   "cell_type": "code",
   "execution_count": 11,
   "metadata": {
    "collapsed": false
   },
   "outputs": [
    {
     "data": {
      "text/html": [
       "<div>\n",
       "<table border=\"1\" class=\"dataframe\">\n",
       "  <thead>\n",
       "    <tr style=\"text-align: right;\">\n",
       "      <th></th>\n",
       "      <th>_id.$oid</th>\n",
       "    </tr>\n",
       "    <tr>\n",
       "      <th>countryname</th>\n",
       "      <th></th>\n",
       "    </tr>\n",
       "  </thead>\n",
       "  <tbody>\n",
       "    <tr>\n",
       "      <th>People's Republic of China</th>\n",
       "      <td>19</td>\n",
       "    </tr>\n",
       "    <tr>\n",
       "      <th>Republic of Indonesia</th>\n",
       "      <td>19</td>\n",
       "    </tr>\n",
       "    <tr>\n",
       "      <th>Socialist Republic of Vietnam</th>\n",
       "      <td>17</td>\n",
       "    </tr>\n",
       "    <tr>\n",
       "      <th>Republic of India</th>\n",
       "      <td>16</td>\n",
       "    </tr>\n",
       "    <tr>\n",
       "      <th>Republic of Yemen</th>\n",
       "      <td>13</td>\n",
       "    </tr>\n",
       "    <tr>\n",
       "      <th>People's Republic of Bangladesh</th>\n",
       "      <td>12</td>\n",
       "    </tr>\n",
       "    <tr>\n",
       "      <th>Nepal</th>\n",
       "      <td>12</td>\n",
       "    </tr>\n",
       "    <tr>\n",
       "      <th>Kingdom of Morocco</th>\n",
       "      <td>12</td>\n",
       "    </tr>\n",
       "    <tr>\n",
       "      <th>Republic of Mozambique</th>\n",
       "      <td>11</td>\n",
       "    </tr>\n",
       "    <tr>\n",
       "      <th>Africa</th>\n",
       "      <td>11</td>\n",
       "    </tr>\n",
       "    <tr>\n",
       "      <th>Burkina Faso</th>\n",
       "      <td>9</td>\n",
       "    </tr>\n",
       "  </tbody>\n",
       "</table>\n",
       "</div>"
      ],
      "text/plain": [
       "                                 _id.$oid\n",
       "countryname                              \n",
       "People's Republic of China             19\n",
       "Republic of Indonesia                  19\n",
       "Socialist Republic of Vietnam          17\n",
       "Republic of India                      16\n",
       "Republic of Yemen                      13\n",
       "People's Republic of Bangladesh        12\n",
       "Nepal                                  12\n",
       "Kingdom of Morocco                     12\n",
       "Republic of Mozambique                 11\n",
       "Africa                                 11\n",
       "Burkina Faso                            9"
      ]
     },
     "execution_count": 11,
     "metadata": {},
     "output_type": "execute_result"
    }
   ],
   "source": [
    "# ANSWER TO QUESTION (1)\n",
    "df_Q1 = df[['_id.$oid','countryname']].groupby('countryname').count().sort_values('_id.$oid',ascending=False)\n",
    "df_Q1.head(11)\n",
    "# Output of this cell is an answer for question 1. \n",
    "# Note that I put down top 11 countries to see that the 11th one is less than the 10th.  "
   ]
  },
  {
   "cell_type": "code",
   "execution_count": 12,
   "metadata": {
    "collapsed": false,
    "scrolled": false
   },
   "outputs": [
    {
     "data": {
      "text/html": [
       "<div>\n",
       "<table border=\"1\" class=\"dataframe\">\n",
       "  <thead>\n",
       "    <tr style=\"text-align: right;\">\n",
       "      <th></th>\n",
       "      <th>code</th>\n",
       "      <th>name</th>\n",
       "      <th>_id.$oid</th>\n",
       "      <th>countryname</th>\n",
       "    </tr>\n",
       "  </thead>\n",
       "  <tbody>\n",
       "    <tr>\n",
       "      <th>0</th>\n",
       "      <td>8</td>\n",
       "      <td>Human development</td>\n",
       "      <td>52b213b38594d8a2be17c780</td>\n",
       "      <td>Federal Democratic Republic of Ethiopia</td>\n",
       "    </tr>\n",
       "    <tr>\n",
       "      <th>1</th>\n",
       "      <td>11</td>\n",
       "      <td></td>\n",
       "      <td>52b213b38594d8a2be17c780</td>\n",
       "      <td>Federal Democratic Republic of Ethiopia</td>\n",
       "    </tr>\n",
       "    <tr>\n",
       "      <th>2</th>\n",
       "      <td>1</td>\n",
       "      <td>Economic management</td>\n",
       "      <td>52b213b38594d8a2be17c781</td>\n",
       "      <td>Republic of Tunisia</td>\n",
       "    </tr>\n",
       "    <tr>\n",
       "      <th>3</th>\n",
       "      <td>6</td>\n",
       "      <td>Social protection and risk management</td>\n",
       "      <td>52b213b38594d8a2be17c781</td>\n",
       "      <td>Republic of Tunisia</td>\n",
       "    </tr>\n",
       "    <tr>\n",
       "      <th>4</th>\n",
       "      <td>5</td>\n",
       "      <td>Trade and integration</td>\n",
       "      <td>52b213b38594d8a2be17c782</td>\n",
       "      <td>Tuvalu</td>\n",
       "    </tr>\n",
       "    <tr>\n",
       "      <th>5</th>\n",
       "      <td>2</td>\n",
       "      <td>Public sector governance</td>\n",
       "      <td>52b213b38594d8a2be17c782</td>\n",
       "      <td>Tuvalu</td>\n",
       "    </tr>\n",
       "    <tr>\n",
       "      <th>6</th>\n",
       "      <td>11</td>\n",
       "      <td>Environment and natural resources management</td>\n",
       "      <td>52b213b38594d8a2be17c782</td>\n",
       "      <td>Tuvalu</td>\n",
       "    </tr>\n",
       "    <tr>\n",
       "      <th>7</th>\n",
       "      <td>6</td>\n",
       "      <td>Social protection and risk management</td>\n",
       "      <td>52b213b38594d8a2be17c782</td>\n",
       "      <td>Tuvalu</td>\n",
       "    </tr>\n",
       "    <tr>\n",
       "      <th>8</th>\n",
       "      <td>7</td>\n",
       "      <td>Social dev/gender/inclusion</td>\n",
       "      <td>52b213b38594d8a2be17c783</td>\n",
       "      <td>Republic of Yemen</td>\n",
       "    </tr>\n",
       "    <tr>\n",
       "      <th>9</th>\n",
       "      <td>7</td>\n",
       "      <td>Social dev/gender/inclusion</td>\n",
       "      <td>52b213b38594d8a2be17c783</td>\n",
       "      <td>Republic of Yemen</td>\n",
       "    </tr>\n",
       "  </tbody>\n",
       "</table>\n",
       "</div>"
      ],
      "text/plain": [
       "  code                                          name  \\\n",
       "0    8                             Human development   \n",
       "1   11                                                 \n",
       "2    1                           Economic management   \n",
       "3    6         Social protection and risk management   \n",
       "4    5                         Trade and integration   \n",
       "5    2                      Public sector governance   \n",
       "6   11  Environment and natural resources management   \n",
       "7    6         Social protection and risk management   \n",
       "8    7                   Social dev/gender/inclusion   \n",
       "9    7                   Social dev/gender/inclusion   \n",
       "\n",
       "                   _id.$oid                              countryname  \n",
       "0  52b213b38594d8a2be17c780  Federal Democratic Republic of Ethiopia  \n",
       "1  52b213b38594d8a2be17c780  Federal Democratic Republic of Ethiopia  \n",
       "2  52b213b38594d8a2be17c781                      Republic of Tunisia  \n",
       "3  52b213b38594d8a2be17c781                      Republic of Tunisia  \n",
       "4  52b213b38594d8a2be17c782                                   Tuvalu  \n",
       "5  52b213b38594d8a2be17c782                                   Tuvalu  \n",
       "6  52b213b38594d8a2be17c782                                   Tuvalu  \n",
       "7  52b213b38594d8a2be17c782                                   Tuvalu  \n",
       "8  52b213b38594d8a2be17c783                        Republic of Yemen  \n",
       "9  52b213b38594d8a2be17c783                        Republic of Yemen  "
      ]
     },
     "execution_count": 12,
     "metadata": {},
     "output_type": "execute_result"
    }
   ],
   "source": [
    "# [Question 2]: We saw that 'mjtheme_namecode' is nested so first we need to re-download the data.  \n",
    "df_by_theme = json_normalize(jsondata,'mjtheme_namecode',['countryname',['_id','$oid']])\n",
    "df_by_theme.head(10)"
   ]
  },
  {
   "cell_type": "code",
   "execution_count": 13,
   "metadata": {
    "collapsed": false
   },
   "outputs": [
    {
     "data": {
      "text/plain": [
       "array(['', 'Economic management',\n",
       "       'Environment and natural resources management',\n",
       "       'Financial and private sector development', 'Human development',\n",
       "       'Public sector governance', 'Rule of law', 'Rural development',\n",
       "       'Social dev/gender/inclusion',\n",
       "       'Social protection and risk management', 'Trade and integration',\n",
       "       'Urban development'], dtype=object)"
      ]
     },
     "execution_count": 13,
     "metadata": {},
     "output_type": "execute_result"
    }
   ],
   "source": [
    "# Next, check all possible values for major theme names\n",
    "df_by_theme.sort_values('name')['name'].unique()"
   ]
  },
  {
   "cell_type": "code",
   "execution_count": 14,
   "metadata": {
    "collapsed": false
   },
   "outputs": [
    {
     "data": {
      "text/html": [
       "<div>\n",
       "<table border=\"1\" class=\"dataframe\">\n",
       "  <thead>\n",
       "    <tr style=\"text-align: right;\">\n",
       "      <th></th>\n",
       "      <th>code</th>\n",
       "      <th>name</th>\n",
       "    </tr>\n",
       "  </thead>\n",
       "  <tbody>\n",
       "    <tr>\n",
       "      <th>2</th>\n",
       "      <td>1</td>\n",
       "      <td>Economic management</td>\n",
       "    </tr>\n",
       "    <tr>\n",
       "      <th>18</th>\n",
       "      <td>10</td>\n",
       "      <td>Rural development</td>\n",
       "    </tr>\n",
       "    <tr>\n",
       "      <th>6</th>\n",
       "      <td>11</td>\n",
       "      <td>Environment and natural resources management</td>\n",
       "    </tr>\n",
       "    <tr>\n",
       "      <th>5</th>\n",
       "      <td>2</td>\n",
       "      <td>Public sector governance</td>\n",
       "    </tr>\n",
       "    <tr>\n",
       "      <th>252</th>\n",
       "      <td>3</td>\n",
       "      <td>Rule of law</td>\n",
       "    </tr>\n",
       "    <tr>\n",
       "      <th>11</th>\n",
       "      <td>4</td>\n",
       "      <td>Financial and private sector development</td>\n",
       "    </tr>\n",
       "    <tr>\n",
       "      <th>4</th>\n",
       "      <td>5</td>\n",
       "      <td>Trade and integration</td>\n",
       "    </tr>\n",
       "    <tr>\n",
       "      <th>3</th>\n",
       "      <td>6</td>\n",
       "      <td>Social protection and risk management</td>\n",
       "    </tr>\n",
       "    <tr>\n",
       "      <th>8</th>\n",
       "      <td>7</td>\n",
       "      <td>Social dev/gender/inclusion</td>\n",
       "    </tr>\n",
       "    <tr>\n",
       "      <th>0</th>\n",
       "      <td>8</td>\n",
       "      <td>Human development</td>\n",
       "    </tr>\n",
       "    <tr>\n",
       "      <th>53</th>\n",
       "      <td>9</td>\n",
       "      <td>Urban development</td>\n",
       "    </tr>\n",
       "  </tbody>\n",
       "</table>\n",
       "</div>"
      ],
      "text/plain": [
       "    code                                          name\n",
       "2      1                           Economic management\n",
       "18    10                             Rural development\n",
       "6     11  Environment and natural resources management\n",
       "5      2                      Public sector governance\n",
       "252    3                                   Rule of law\n",
       "11     4      Financial and private sector development\n",
       "4      5                         Trade and integration\n",
       "3      6         Social protection and risk management\n",
       "8      7                   Social dev/gender/inclusion\n",
       "0      8                             Human development\n",
       "53     9                             Urban development"
      ]
     },
     "execution_count": 14,
     "metadata": {},
     "output_type": "execute_result"
    }
   ],
   "source": [
    "# There are 12 unique major theme names, including empty space, ''.\n",
    "# Next, create a dataframe mapping 'code' to 'name'.\n",
    "df_code2name = df_by_theme[['code','name']]\n",
    "# Take out obs with missing name and drop all duplicates\n",
    "df_code2name = df_code2name[df_code2name.name!=''].drop_duplicates().sort_values('code')\n",
    "df_code2name"
   ]
  },
  {
   "cell_type": "code",
   "execution_count": 15,
   "metadata": {
    "collapsed": false
   },
   "outputs": [
    {
     "data": {
      "text/plain": [
       "array(['Human development', 'Environment and natural resources management',\n",
       "       'Economic management', 'Social protection and risk management',\n",
       "       'Trade and integration', 'Public sector governance',\n",
       "       'Social dev/gender/inclusion',\n",
       "       'Financial and private sector development', 'Rural development',\n",
       "       'Urban development', 'Rule of law'], dtype=object)"
      ]
     },
     "execution_count": 15,
     "metadata": {},
     "output_type": "execute_result"
    }
   ],
   "source": [
    "# Then, we can merge this mapping back to the original dataframe.\n",
    "df_by_theme = pd.merge(df_by_theme.drop('name', 1),df_code2name, on='code',how='left')\n",
    "df_by_theme['name'].unique() # check if there is still missing value for 'name'."
   ]
  },
  {
   "cell_type": "code",
   "execution_count": 16,
   "metadata": {
    "collapsed": false
   },
   "outputs": [
    {
     "data": {
      "text/html": [
       "<div>\n",
       "<table border=\"1\" class=\"dataframe\">\n",
       "  <thead>\n",
       "    <tr style=\"text-align: right;\">\n",
       "      <th></th>\n",
       "      <th>_id.$oid</th>\n",
       "    </tr>\n",
       "    <tr>\n",
       "      <th>name</th>\n",
       "      <th></th>\n",
       "    </tr>\n",
       "  </thead>\n",
       "  <tbody>\n",
       "    <tr>\n",
       "      <th>Environment and natural resources management</th>\n",
       "      <td>250</td>\n",
       "    </tr>\n",
       "    <tr>\n",
       "      <th>Rural development</th>\n",
       "      <td>216</td>\n",
       "    </tr>\n",
       "    <tr>\n",
       "      <th>Human development</th>\n",
       "      <td>210</td>\n",
       "    </tr>\n",
       "    <tr>\n",
       "      <th>Public sector governance</th>\n",
       "      <td>199</td>\n",
       "    </tr>\n",
       "    <tr>\n",
       "      <th>Social protection and risk management</th>\n",
       "      <td>168</td>\n",
       "    </tr>\n",
       "    <tr>\n",
       "      <th>Financial and private sector development</th>\n",
       "      <td>146</td>\n",
       "    </tr>\n",
       "    <tr>\n",
       "      <th>Social dev/gender/inclusion</th>\n",
       "      <td>130</td>\n",
       "    </tr>\n",
       "    <tr>\n",
       "      <th>Trade and integration</th>\n",
       "      <td>77</td>\n",
       "    </tr>\n",
       "    <tr>\n",
       "      <th>Urban development</th>\n",
       "      <td>50</td>\n",
       "    </tr>\n",
       "    <tr>\n",
       "      <th>Economic management</th>\n",
       "      <td>38</td>\n",
       "    </tr>\n",
       "    <tr>\n",
       "      <th>Rule of law</th>\n",
       "      <td>15</td>\n",
       "    </tr>\n",
       "  </tbody>\n",
       "</table>\n",
       "</div>"
      ],
      "text/plain": [
       "                                              _id.$oid\n",
       "name                                                  \n",
       "Environment and natural resources management       250\n",
       "Rural development                                  216\n",
       "Human development                                  210\n",
       "Public sector governance                           199\n",
       "Social protection and risk management              168\n",
       "Financial and private sector development           146\n",
       "Social dev/gender/inclusion                        130\n",
       "Trade and integration                               77\n",
       "Urban development                                   50\n",
       "Economic management                                 38\n",
       "Rule of law                                         15"
      ]
     },
     "execution_count": 16,
     "metadata": {},
     "output_type": "execute_result"
    }
   ],
   "source": [
    "# ANSWER TO QUESTION (2) : see output of this cell.\n",
    "# 'df_by_theme' is the dataframe that the question asks for. (QUESTION 3)\n",
    "# Note that I put down top 11 to see that the 11th is truly less than the 10th. \n",
    "df_Q2 = df_by_theme[['name','_id.$oid']].groupby('name').count().sort_values('_id.$oid',ascending=False)\n",
    "df_Q2.head(11)"
   ]
  }
 ],
 "metadata": {
  "anaconda-cloud": {},
  "kernelspec": {
   "display_name": "Python [Root]",
   "language": "python",
   "name": "Python [Root]"
  },
  "language_info": {
   "codemirror_mode": {
    "name": "ipython",
    "version": 3
   },
   "file_extension": ".py",
   "mimetype": "text/x-python",
   "name": "python",
   "nbconvert_exporter": "python",
   "pygments_lexer": "ipython3",
   "version": "3.5.2"
  }
 },
 "nbformat": 4,
 "nbformat_minor": 0
}
