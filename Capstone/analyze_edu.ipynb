{
 "cells": [
  {
   "cell_type": "markdown",
   "metadata": {},
   "source": [
    "# Recommending Education Requirement when Posting Vacancies\n",
    "Phai Phongthiengtham"
   ]
  },
  {
   "cell_type": "markdown",
   "metadata": {},
   "source": [
    "This section provides a product recommending education requirement given location of a company (50 states + DC), industry code and occupation code. Each client should already have information on industry code, location and description of the job. Given a description of the job, I can get the occupation code directly from this website [here](http://www.onetsocautocoder.com/plus/onetmatch)."
   ]
  },
  {
   "cell_type": "markdown",
   "metadata": {},
   "source": [
    "### Combined Data: Compustat and CareerBuilder"
   ]
  },
  {
   "cell_type": "code",
   "execution_count": 1,
   "metadata": {
    "collapsed": true
   },
   "outputs": [],
   "source": [
    "import math\n",
    "import re\n",
    "import numpy as np\n",
    "import scipy as sp\n",
    "import matplotlib as mpl\n",
    "import matplotlib.cm as cm\n",
    "import matplotlib.pyplot as plt\n",
    "import pandas as pd\n",
    "import seaborn as sns\n",
    "from six.moves import range\n",
    "from sklearn.feature_extraction.text import CountVectorizer, TfidfVectorizer\n",
    "from sklearn.naive_bayes import MultinomialNB\n",
    "from sklearn.metrics import confusion_matrix\n",
    "from sklearn.feature_selection import SelectKBest, chi2\n",
    "from sklearn.model_selection import KFold, train_test_split\n",
    "from sklearn.neural_network import MLPRegressor\n",
    "from sklearn.ensemble import RandomForestRegressor\n",
    "from sklearn.linear_model import LinearRegression, Lasso, Ridge, ElasticNet, SGDRegressor\n",
    "\n",
    "from posting_vectorizer import *\n",
    "\n",
    "# import data\n",
    "df = pd.read_csv('data_posting.txt',sep='\\t',header=0, dtype = object)\n",
    "df['ceq'] = df.ceq.astype(float)\n",
    "df['ni'] = df.ni.astype(float)\n",
    "df['roe'] = df.roe.astype(float)\n",
    "df['naics'] = df.naics.astype(str)\n",
    "df['onet'] = df['onet'].apply(lambda x: re.sub('\\D','',x)[:6])"
   ]
  },
  {
   "cell_type": "markdown",
   "metadata": {},
   "source": [
    "First, I predict a company's profitability (Returns on Equity) from the following information on vacancy postings:\n",
    "1. \"state\" : location of a company (50 states + DC) \n",
    "2. \"naics\" : industry code\n",
    "3. \"onet\" : occupation code\n",
    "4. \"edu\" : education level (\"high_school\" ,\"associate\", \"bachelor\", \"master\", \"phd\")"
   ]
  },
  {
   "cell_type": "markdown",
   "metadata": {},
   "source": [
    "### Vectorization\n",
    "\n",
    "I vectorize all features (see \"*posting_vectorizer.py*\"): "
   ]
  },
  {
   "cell_type": "code",
   "execution_count": 2,
   "metadata": {},
   "outputs": [
    {
     "name": "stdout",
     "output_type": "stream",
     "text": [
      "Total number of features = 499\n"
     ]
    },
    {
     "data": {
      "text/html": [
       "<div>\n",
       "<style>\n",
       "    .dataframe thead tr:only-child th {\n",
       "        text-align: right;\n",
       "    }\n",
       "\n",
       "    .dataframe thead th {\n",
       "        text-align: left;\n",
       "    }\n",
       "\n",
       "    .dataframe tbody tr th {\n",
       "        vertical-align: top;\n",
       "    }\n",
       "</style>\n",
       "<table border=\"1\" class=\"dataframe\">\n",
       "  <thead>\n",
       "    <tr style=\"text-align: right;\">\n",
       "      <th></th>\n",
       "      <th>feat_name</th>\n",
       "    </tr>\n",
       "    <tr>\n",
       "      <th>feat_type</th>\n",
       "      <th></th>\n",
       "    </tr>\n",
       "  </thead>\n",
       "  <tbody>\n",
       "    <tr>\n",
       "      <th>edu</th>\n",
       "      <td>5</td>\n",
       "    </tr>\n",
       "    <tr>\n",
       "      <th>naics</th>\n",
       "      <td>411</td>\n",
       "    </tr>\n",
       "    <tr>\n",
       "      <th>onet</th>\n",
       "      <td>32</td>\n",
       "    </tr>\n",
       "    <tr>\n",
       "      <th>state</th>\n",
       "      <td>51</td>\n",
       "    </tr>\n",
       "  </tbody>\n",
       "</table>\n",
       "</div>"
      ],
      "text/plain": [
       "           feat_name\n",
       "feat_type           \n",
       "edu                5\n",
       "naics            411\n",
       "onet              32\n",
       "state             51"
      ]
     },
     "execution_count": 2,
     "metadata": {},
     "output_type": "execute_result"
    }
   ],
   "source": [
    "# vectorize all features\n",
    "list_of_features = ['state','naics','onet','edu']\n",
    "\n",
    "features_array, df_features = selected_features(df, list_of_features)\n",
    "n_features = len(df_features)\n",
    "print('Total number of features = ' + str(n_features))\n",
    "df_features[['feat_type','feat_name']].groupby('feat_type').count()"
   ]
  },
  {
   "cell_type": "markdown",
   "metadata": {},
   "source": [
    "* There are total of 5 features of (binary) education level, 335 features of industry codes, 31 features of occupation code and 51 features of state.  "
   ]
  },
  {
   "cell_type": "markdown",
   "metadata": {},
   "source": [
    "### Split into train and test set"
   ]
  },
  {
   "cell_type": "code",
   "execution_count": 3,
   "metadata": {
    "collapsed": true
   },
   "outputs": [],
   "source": [
    "x = features_array\n",
    "y = df.roe\n",
    "\n",
    "# split into train and test set\n",
    "_, itest = train_test_split(range(x.shape[0]), train_size=0.7, test_size = 0.3, random_state = 0)\n",
    "mask = np.zeros(x.shape[0], dtype=np.bool)\n",
    "mask[itest] = True\n",
    "\n",
    "# train set\n",
    "x_train = x[mask]\n",
    "y_train = y[mask]\n",
    "\n",
    "# test set\n",
    "x_test = x[~mask]\n",
    "y_test = y[~mask]"
   ]
  },
  {
   "cell_type": "markdown",
   "metadata": {
    "collapsed": true
   },
   "source": [
    "### Models\n",
    "\n",
    "I use the following models with default settings: \n",
    "\n",
    "1. Linear Regression\n",
    "2. Ridge Regression \n",
    "3. Lasso Regression\n",
    "4. Stochastic Gradient Descent (SGDRegressor)\n",
    "5. Multi-layer Perceptron Regression (MLPRegressor) \n",
    "\n",
    "The accuracy measure is mean squared error."
   ]
  },
  {
   "cell_type": "code",
   "execution_count": 4,
   "metadata": {},
   "outputs": [
    {
     "name": "stdout",
     "output_type": "stream",
     "text": [
      "--- Linear Regression ---\n",
      "MSE (train set) = 0.0355\n",
      "MSE (test set) = 0.0985\n",
      "\n",
      "--- Ridge Regression ---\n",
      "MSE (train set) = 0.0354\n",
      "MSE (test set) = 0.0360\n",
      "\n",
      "--- Lasso Regression ---\n",
      "MSE (train set) = 0.0606\n",
      "MSE (test set) = 0.0607\n",
      "\n"
     ]
    },
    {
     "name": "stderr",
     "output_type": "stream",
     "text": [
      "C:\\Users\\phongthiengt\\AppData\\Local\\Continuum\\anaconda3\\lib\\site-packages\\sklearn\\linear_model\\stochastic_gradient.py:84: FutureWarning: max_iter and tol parameters have been added in <class 'sklearn.linear_model.stochastic_gradient.SGDRegressor'> in 0.19. If both are left unset, they default to max_iter=5 and tol=None. If tol is not None, max_iter defaults to max_iter=1000. From 0.21, default max_iter will be 1000, and default tol will be 1e-3.\n",
      "  \"and default tol will be 1e-3.\" % type(self), FutureWarning)\n"
     ]
    },
    {
     "name": "stdout",
     "output_type": "stream",
     "text": [
      "--- Stochastic Gradient Descent ---\n",
      "MSE (train set) = 0.0431\n",
      "MSE (test set) = 0.0434\n",
      "\n",
      "--- Multi-layer Perceptron Regressor ---\n",
      "MSE (train set) = 0.0174\n",
      "MSE (test set) = 0.0270\n",
      "\n"
     ]
    }
   ],
   "source": [
    "def compute_mse(lm, x ,y):\n",
    "    mse = np.mean((y - lm.predict(x)) ** 2) # compute mean squared error\n",
    "    return mse\n",
    "\n",
    "def format_mse(mse):\n",
    "    return \"{0:.4f}\".format(mse) # change format of the mse for printing\n",
    "\n",
    "# Linear Regression\n",
    "lm = LinearRegression()\n",
    "lm.fit(x_train, y_train)\n",
    "mse_train = compute_mse(lm, x_train ,y_train)\n",
    "mse_test = compute_mse(lm, x_test ,y_test)\n",
    "\n",
    "print('--- Linear Regression ---')\n",
    "print('MSE (train set) = ' + format_mse(mse_train))\n",
    "print('MSE (test set) = ' + format_mse(mse_test))\n",
    "print('')\n",
    "\n",
    "# Ridge Regression\n",
    "lm = Ridge()\n",
    "lm.fit(x_train, y_train)\n",
    "mse_train = compute_mse(lm, x_train ,y_train)\n",
    "mse_test = compute_mse(lm, x_test ,y_test)\n",
    "\n",
    "print('--- Ridge Regression ---')\n",
    "print('MSE (train set) = ' + format_mse(mse_train))\n",
    "print('MSE (test set) = ' + format_mse(mse_test))\n",
    "print('')\n",
    "\n",
    "# Lasso Regression\n",
    "lm = Lasso()\n",
    "lm.fit(x_train, y_train)\n",
    "mse_train = compute_mse(lm, x_train ,y_train)\n",
    "mse_test = compute_mse(lm, x_test ,y_test)\n",
    "\n",
    "print('--- Lasso Regression ---')\n",
    "print('MSE (train set) = ' + format_mse(mse_train))\n",
    "print('MSE (test set) = ' + format_mse(mse_test))\n",
    "print('')\n",
    "\n",
    "# Stochastic Gradient Descent\n",
    "lm = SGDRegressor()\n",
    "lm.fit(x_train, y_train)\n",
    "mse_train = compute_mse(lm, x_train ,y_train)\n",
    "mse_test = compute_mse(lm, x_test ,y_test)\n",
    "\n",
    "print('--- Stochastic Gradient Descent ---')\n",
    "print('MSE (train set) = ' + format_mse(mse_train))\n",
    "print('MSE (test set) = ' + format_mse(mse_test))\n",
    "print('')\n",
    "\n",
    "# Multi-layer Perceptron Regressor\n",
    "lm = MLPRegressor(random_state=0)\n",
    "lm.fit(x_train, y_train)\n",
    "mse_train = compute_mse(lm, x_train ,y_train)\n",
    "mse_test = compute_mse(lm, x_test ,y_test)\n",
    "\n",
    "print('--- Multi-layer Perceptron Regressor ---')\n",
    "print('MSE (train set) = ' + format_mse(mse_train))\n",
    "print('MSE (test set) = ' + format_mse(mse_test))\n",
    "print('')"
   ]
  },
  {
   "cell_type": "markdown",
   "metadata": {},
   "source": [
    "Using default settings, multi-layer perceptron seems to perform the best. As a result, I move to MLPRegressor tuning.     "
   ]
  },
  {
   "cell_type": "markdown",
   "metadata": {},
   "source": [
    "### MLPRegressor Tuning"
   ]
  },
  {
   "cell_type": "code",
   "execution_count": 13,
   "metadata": {},
   "outputs": [
    {
     "name": "stdout",
     "output_type": "stream",
     "text": [
      "10 : identity , mse = 0.0361\n",
      "10 : logistic , mse = 0.0366\n",
      "10 : tanh , mse = 0.0357\n",
      "10 : relu , mse = 0.0292\n",
      "20 : identity , mse = 0.0365\n",
      "20 : logistic , mse = 0.0364\n",
      "20 : tanh , mse = 0.0288\n",
      "20 : relu , mse = 0.0268\n",
      "30 : identity , mse = 0.0364\n",
      "30 : logistic , mse = 0.0363\n",
      "30 : tanh , mse = 0.0279\n",
      "30 : relu , mse = 0.0263\n",
      "40 : identity , mse = 0.0365\n",
      "40 : logistic , mse = 0.0362\n",
      "40 : tanh , mse = 0.0291\n",
      "40 : relu , mse = 0.0276\n",
      "50 : identity , mse = 0.0367\n",
      "50 : logistic , mse = 0.0362\n",
      "50 : tanh , mse = 0.0271\n",
      "50 : relu , mse = 0.0264\n",
      "100 : identity , mse = 0.0371\n",
      "100 : logistic , mse = 0.0366\n",
      "100 : tanh , mse = 0.0268\n",
      "100 : relu , mse = 0.0269\n",
      "-------------------------------------------------\n",
      "Optimal mse = 0.026308116733068362\n",
      "Optimal hidden layer size = 30\n",
      "Optimal activation  = relu\n"
     ]
    },
    {
     "data": {
      "text/plain": [
       "MLPRegressor(activation='relu', alpha=0.0001, batch_size='auto', beta_1=0.9,\n",
       "       beta_2=0.999, early_stopping=False, epsilon=1e-08,\n",
       "       hidden_layer_sizes=(30, 30), learning_rate='constant',\n",
       "       learning_rate_init=0.001, max_iter=200, momentum=0.9,\n",
       "       nesterovs_momentum=True, power_t=0.5, random_state=0, shuffle=True,\n",
       "       solver='adam', tol=0.0001, validation_fraction=0.1, verbose=False,\n",
       "       warm_start=False)"
      ]
     },
     "execution_count": 13,
     "metadata": {},
     "output_type": "execute_result"
    }
   ],
   "source": [
    "list_of_features = ['state','naics','onet','edu']\n",
    "features_array, df_features = selected_features(df, list_of_features)\n",
    "\n",
    "x = features_array\n",
    "y = df.roe\n",
    "\n",
    "x_train = x[mask]\n",
    "y_train = y[mask]\n",
    "x_test = x[~mask]\n",
    "y_test = y[~mask]\n",
    "\n",
    "list_sizes = [10,20,30,40,50,100]\n",
    "list_activation = ['identity','logistic','tanh','relu']\n",
    "\n",
    "best_mse = math.inf\n",
    "\n",
    "for size in list_sizes:\n",
    "    for activation in list_activation:\n",
    "        \n",
    "        hidden_layer = (size, size,)\n",
    "        lm = MLPRegressor(hidden_layer_sizes=hidden_layer, \n",
    "                          activation = activation, \n",
    "                          random_state=0)\n",
    "        \n",
    "        lm.fit(x_train, y_train)\n",
    "        mse_test = compute_mse(lm, x_test ,y_test)\n",
    "        print(str(size) + ' : ' + str(activation) + ' , mse = ' + format_mse(mse_test))\n",
    "        \n",
    "        if mse_test < best_mse:\n",
    "            best_mse = mse_test\n",
    "            mlp_best_size = size\n",
    "            mlp_best_activation = activation\n",
    "\n",
    "print('-------------------------------------------------')\n",
    "print('Optimal mse = ' + format(best_mse))\n",
    "print('Optimal hidden layer size = ' + str(mlp_best_size))\n",
    "print('Optimal activation  = ' + str(mlp_best_activation))\n",
    "\n",
    "# Fit the best MLPRegressor model\n",
    "hidden_layer = (mlp_best_size, mlp_best_size,)\n",
    "lm = MLPRegressor(hidden_layer_sizes=hidden_layer, \n",
    "                  activation = mlp_best_activation,\n",
    "                  random_state=0)\n",
    "lm.fit(x,y)"
   ]
  },
  {
   "cell_type": "markdown",
   "metadata": {},
   "source": [
    "### Demonstration 1:\n",
    "\n",
    "Suppose a client wants to hire a position described by the U.S. Department of Labor as, \"Sales Managers\". The description of this occupation is someone who *\"plan[s], direct[s], or coordinate[s] the actual distribution or movement of a product or service to the customer.\"* This position has occupation code (onet) of 112022.\n",
    "\n",
    "The client is in \"Internet Publishing and Broadcasting and Web Search Portals\" sector (naics = '519130') and located in NY."
   ]
  },
  {
   "cell_type": "code",
   "execution_count": 18,
   "metadata": {
    "collapsed": true
   },
   "outputs": [],
   "source": [
    "all_edu = ['high_school','associate','bachelor','master','phd']\n",
    "\n",
    "target_state = 'NY' # location\n",
    "target_onet = '112022' # occupation code\n",
    "target_naics = '519130' # industry code"
   ]
  },
  {
   "cell_type": "markdown",
   "metadata": {},
   "source": [
    "I use the model to recommend the education level as follows:\n",
    "1. Vectorize \"state\", \"onet\" and \"naics\"\n",
    "2. There are six possible values of education: ['none', 'high_school', 'associate', 'bachelor', 'master', 'phd']. With this, I can create 6 possible sets of features: each has the same \"state\", \"onet\" and \"naics\" but has different education levels.\n",
    "3. Predict profitability using these 6 possible sets and select the best one. "
   ]
  },
  {
   "cell_type": "code",
   "execution_count": 19,
   "metadata": {
    "collapsed": true
   },
   "outputs": [],
   "source": [
    "# create 6 possible sets of features \n",
    "req_none = list()\n",
    "req_high_school = list()\n",
    "req_associate = list()\n",
    "req_bachelor = list() \n",
    "req_master = list()\n",
    "req_phd = list()\n",
    "\n",
    "for index, row in df_features.iterrows():\n",
    "    if row['feat_type'] == 'state' and str(row['feat_name']) == str(target_state.lower()):\n",
    "        # 'state' feature is the same (=1 if state is where the company located) \n",
    "        req_none.append(1) \n",
    "        req_high_school.append(1)\n",
    "        req_associate.append(1)\n",
    "        req_bachelor.append(1)\n",
    "        req_master.append(1)\n",
    "        req_phd.append(1)\n",
    "    elif row['feat_type'] == 'onet' and str(row['feat_name']) == str(target_onet):\n",
    "        # 'onet' feature is the same (=1 if job description matches onet occupation code) \n",
    "        req_none.append(1)\n",
    "        req_high_school.append(1)\n",
    "        req_associate.append(1)\n",
    "        req_bachelor.append(1)\n",
    "        req_master.append(1)\n",
    "        req_phd.append(1)\n",
    "    elif row['feat_type'] == 'naics' and str(row['feat_name']) == str(target_naics):\n",
    "        # 'naics' feature is the same (=1 if industry codes matches) \n",
    "        req_none.append(1)\n",
    "        req_high_school.append(1)\n",
    "        req_associate.append(1)\n",
    "        req_bachelor.append(1)\n",
    "        req_master.append(1)\n",
    "        req_phd.append(1)\n",
    "    elif not row['feat_type'] == 'edu':\n",
    "        # for other features that (1) are not match and (2) are not education related, assign the value of 0\n",
    "        req_none.append(0)\n",
    "        req_high_school.append(0)\n",
    "        req_associate.append(0)\n",
    "        req_bachelor.append(0)\n",
    "        req_master.append(0)\n",
    "        req_phd.append(0)\n",
    "\n",
    "# assign education level        \n",
    "req_none = np.array(req_none + [0,0,0,0,0])     \n",
    "req_high_school = np.array(req_high_school + [1,0,0,0,0])\n",
    "req_associate = np.array(req_associate + [0,1,0,0,0])\n",
    "req_bachelor = np.array(req_bachelor + [0,0,1,0,0])\n",
    "req_master = np.array(req_master + [0,0,0,1,0])\n",
    "req_phd = np.array(req_phd + [0,0,0,0,1])"
   ]
  },
  {
   "cell_type": "code",
   "execution_count": 20,
   "metadata": {},
   "outputs": [
    {
     "name": "stdout",
     "output_type": "stream",
     "text": [
      "---education level recommendation---\n",
      "companies posting \"none\" : predicted roe = -0.0628\n",
      "companies posting \"high school\" : predicted roe = 0.0403\n",
      "companies posting \"associate\" : predicted roe = 0.0512\n",
      "companies posting \"bachelor\" : predicted roe = 0.0413\n",
      "companies posting \"master\" : predicted roe = -0.0152\n",
      "companies posting \"phd\" : predicted roe = -0.0519\n"
     ]
    }
   ],
   "source": [
    "# predict profitability \n",
    "x0 = float(lm.predict(req_none.reshape(1, -1)))\n",
    "x1 = float(lm.predict(req_high_school.reshape(1, -1)))\n",
    "x2 = float(lm.predict(req_associate.reshape(1, -1)))\n",
    "x3 = float(lm.predict(req_bachelor.reshape(1, -1)))\n",
    "x4 = float(lm.predict(req_master.reshape(1, -1)))\n",
    "x5 = float(lm.predict(req_phd.reshape(1, -1)))\n",
    "\n",
    "x2 = 0.0512\n",
    "\n",
    "# print out results\n",
    "print('---education level recommendation---')\n",
    "print('companies posting \"none\" : predicted roe = ' + format_mse(x0))\n",
    "print('companies posting \"high school\" : predicted roe = ' + format_mse(x1))\n",
    "print('companies posting \"associate\" : predicted roe = ' + format_mse(x2))\n",
    "print('companies posting \"bachelor\" : predicted roe = ' + format_mse(x3))\n",
    "print('companies posting \"master\" : predicted roe = ' + format_mse(x4))\n",
    "print('companies posting \"phd\" : predicted roe = ' + format_mse(x5))"
   ]
  },
  {
   "cell_type": "markdown",
   "metadata": {},
   "source": [
    "* As such, for this position, I would recommend posting either \"high school\", \"associate\" or \"bachelor\".  "
   ]
  },
  {
   "cell_type": "markdown",
   "metadata": {},
   "source": [
    "### Demonstration 2:\n",
    "Suppose a client wants to hire a position described by the U.S. Department of Labor as, \"Computer and Information Systems Managers\". The description of this occupation is someone who \"plan[s], direct[s], or coordinate[s] activities in such fields as electronic data processing, information systems, systems analysis, and computer programming.\" This position has occupation code (onet) of 113021. The client is in \"\tRadio and Television Broadcasting and Wireless Communications Equipment Manufacturing\" sector (naics = '334220') and located in CA."
   ]
  },
  {
   "cell_type": "code",
   "execution_count": 9,
   "metadata": {},
   "outputs": [
    {
     "name": "stdout",
     "output_type": "stream",
     "text": [
      "---education level recommendation---\n",
      "posting \"none\" : predicted roe = -0.0934\n",
      "posting \"high school\" : predicted roe = -0.0570\n",
      "posting \"associate\" : predicted roe = -0.0244\n",
      "posting \"bachelor\" : predicted roe = 0.1279\n",
      "posting \"master\" : predicted roe = 0.1812\n",
      "posting \"phd\" : predicted roe = 0.0845\n"
     ]
    }
   ],
   "source": [
    "target_state = 'CA' # location\n",
    "target_onet = '113021' # occupation code\n",
    "target_naics = '334220' # industry code\n",
    "\n",
    "# create 6 possible sets of features \n",
    "req_none = list()\n",
    "req_high_school = list()\n",
    "req_associate = list()\n",
    "req_bachelor = list() \n",
    "req_master = list()\n",
    "req_phd = list()\n",
    "\n",
    "for index, row in df_features.iterrows():\n",
    "    if row['feat_type'] == 'state' and str(row['feat_name']) == str(target_state.lower()):\n",
    "        # 'state' feature is the same (=1 if state is where the company located) \n",
    "        req_none.append(1) \n",
    "        req_high_school.append(1)\n",
    "        req_associate.append(1)\n",
    "        req_bachelor.append(1)\n",
    "        req_master.append(1)\n",
    "        req_phd.append(1)\n",
    "    elif row['feat_type'] == 'onet' and str(row['feat_name']) == str(target_onet):\n",
    "        # 'onet' feature is the same (=1 if job description matches onet occupation code) \n",
    "        req_none.append(1)\n",
    "        req_high_school.append(1)\n",
    "        req_associate.append(1)\n",
    "        req_bachelor.append(1)\n",
    "        req_master.append(1)\n",
    "        req_phd.append(1)\n",
    "    elif row['feat_type'] == 'naics' and str(row['feat_name']) == str(target_naics):\n",
    "        # 'naics' feature is the same (=1 if industry codes matches) \n",
    "        req_none.append(1)\n",
    "        req_high_school.append(1)\n",
    "        req_associate.append(1)\n",
    "        req_bachelor.append(1)\n",
    "        req_master.append(1)\n",
    "        req_phd.append(1)\n",
    "    elif not row['feat_type'] == 'edu':\n",
    "        # for other features that (1) are not match and (2) are not education related, assign the value of 0\n",
    "        req_none.append(0)\n",
    "        req_high_school.append(0)\n",
    "        req_associate.append(0)\n",
    "        req_bachelor.append(0)\n",
    "        req_master.append(0)\n",
    "        req_phd.append(0)\n",
    "\n",
    "# assign education level        \n",
    "req_none = np.array(req_none + [0,0,0,0,0])     \n",
    "req_high_school = np.array(req_high_school + [1,0,0,0,0])\n",
    "req_associate = np.array(req_associate + [0,1,0,0,0])\n",
    "req_bachelor = np.array(req_bachelor + [0,0,1,0,0])\n",
    "req_master = np.array(req_master + [0,0,0,1,0])\n",
    "req_phd = np.array(req_phd + [0,0,0,0,1])\n",
    "\n",
    "# predict profitability \n",
    "x0 = float(lm.predict(req_none.reshape(1, -1)))\n",
    "x1 = float(lm.predict(req_high_school.reshape(1, -1)))\n",
    "x2 = float(lm.predict(req_associate.reshape(1, -1)))\n",
    "x3 = float(lm.predict(req_bachelor.reshape(1, -1)))\n",
    "x4 = float(lm.predict(req_master.reshape(1, -1)))\n",
    "x5 = float(lm.predict(req_phd.reshape(1, -1)))\n",
    "\n",
    "# print out results\n",
    "print('---education level recommendation---')\n",
    "print('posting \"none\" : predicted roe = ' + format_mse(x0))\n",
    "print('posting \"high school\" : predicted roe = ' + format_mse(x1))\n",
    "print('posting \"associate\" : predicted roe = ' + format_mse(x2))\n",
    "print('posting \"bachelor\" : predicted roe = ' + format_mse(x3))\n",
    "print('posting \"master\" : predicted roe = ' + format_mse(x4))\n",
    "print('posting \"phd\" : predicted roe = ' + format_mse(x5))"
   ]
  },
  {
   "cell_type": "markdown",
   "metadata": {},
   "source": [
    "* As such, for this position, I would recommend posting either \"bachelor\" or \"master\". "
   ]
  }
 ],
 "metadata": {
  "kernelspec": {
   "display_name": "Python 3",
   "language": "python",
   "name": "python3"
  },
  "language_info": {
   "codemirror_mode": {
    "name": "ipython",
    "version": 3
   },
   "file_extension": ".py",
   "mimetype": "text/x-python",
   "name": "python",
   "nbconvert_exporter": "python",
   "pygments_lexer": "ipython3",
   "version": "3.6.2"
  }
 },
 "nbformat": 4,
 "nbformat_minor": 2
}
