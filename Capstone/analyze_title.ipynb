{
 "cells": [
  {
   "cell_type": "markdown",
   "metadata": {},
   "source": [
    "# Job Titles and Profitability\n",
    "Phai Phongthiengtham\n",
    "\n",
    "***"
   ]
  },
  {
   "cell_type": "markdown",
   "metadata": {},
   "source": [
    "This section explores relationships between job titles and profitability."
   ]
  },
  {
   "cell_type": "markdown",
   "metadata": {},
   "source": [
    "### Import necessary modules and dataset"
   ]
  },
  {
   "cell_type": "code",
   "execution_count": 1,
   "metadata": {
    "collapsed": true
   },
   "outputs": [],
   "source": [
    "import math\n",
    "import re\n",
    "import numpy as np\n",
    "import scipy as sp\n",
    "import matplotlib as mpl\n",
    "import matplotlib.cm as cm\n",
    "import matplotlib.pyplot as plt\n",
    "import pandas as pd\n",
    "import seaborn as sns\n",
    "from six.moves import range\n",
    "from sklearn.feature_extraction.text import CountVectorizer, TfidfVectorizer\n",
    "from sklearn.naive_bayes import MultinomialNB\n",
    "from sklearn.metrics import confusion_matrix\n",
    "from sklearn.feature_selection import SelectKBest, chi2\n",
    "from sklearn.model_selection import KFold, train_test_split\n",
    "from sklearn.neural_network import MLPRegressor\n",
    "from sklearn.ensemble import RandomForestRegressor\n",
    "from sklearn.linear_model import LinearRegression, Lasso, Ridge, ElasticNet, SGDRegressor\n",
    "import nltk\n",
    "from nltk import word_tokenize\n",
    "#nltk.download(\"stopwords\") # un-comment if run for the first time\n",
    "#nltk.download(\"punkt\") # un-comment if run for the first time\n",
    "\n",
    "from nltk.corpus import stopwords\n",
    "stop_words = set(stopwords.words('english'))\n",
    "\n",
    "from posting_vectorizer import *\n",
    "\n",
    "pd.set_option('display.max_columns', 100)\n",
    "pd.set_option('display.max_rows', 2000)\n",
    "\n",
    "df = pd.read_csv('data_10K_no_description.txt',sep='\\t',header=0,dtype = object)\n",
    "df['roe'] = df.roe.astype(float)"
   ]
  },
  {
   "cell_type": "markdown",
   "metadata": {},
   "source": [
    "### Detect job titles with locations\n",
    "\n",
    "Upon visual inspection, there are a large fraction of job titles where information on location is available. This sub-section (1) creates an extra feature \"titleloc\", which takes a value of 1 if that particular job title contains information on location and 0 otherwise, and (2) creates an extra feature counting how many words there are in the job titles. "
   ]
  },
  {
   "cell_type": "code",
   "execution_count": 2,
   "metadata": {},
   "outputs": [
    {
     "name": "stdout",
     "output_type": "stream",
     "text": [
      "--- list of state names and their abbrevations ---\n",
      "\n",
      "['alabama', 'alaska', 'arizona', 'arkansas', 'california', 'colorado', 'connecticut', 'delaware', 'florida', 'georgia', 'hawaii', 'idaho', 'illinois', 'indiana', 'iowa', 'kansas', 'kentucky', 'louisiana', 'maine', 'maryland', 'massachusetts', 'michigan', 'minnesota', 'mississippi', 'missouri', 'montana', 'nebraska', 'nevada', 'new hampshire', 'new jersey', 'new mexico', 'new york', 'north carolina', 'north dakota', 'ohio', 'oklahoma', 'oregon', 'pennsylvania', 'rhode island', 'south carolina', 'south dakota', 'tennessee', 'texas', 'utah', 'vermont', 'virginia', 'washington', 'west virginia', 'wisconsin', 'wyoming', 'al', 'ak', 'az', 'ar', 'ca', 'co', 'ct', 'de', 'fl', 'ga', 'hi', 'id', 'il', 'in', 'ia', 'ks', 'ky', 'la', 'me', 'md', 'ma', 'mi', 'mn', 'ms', 'mo', 'mt', 'ne', 'nv', 'nh', 'nj', 'nm', 'ny', 'nc', 'nd', 'oh', 'ok', 'or', 'pa', 'ri', 'sc', 'sd', 'tn', 'tx', 'ut', 'vt', 'va', 'wa', 'wv', 'wi', 'wy', 'dc', 'north', 'south', 'east', 'west', 'northeast', 'northwest', 'southeast', 'southwest', 'pacific', 'atlantic']\n",
      "\n",
      "--- some examples ---\n",
      "\n",
      "\"Area Manager - CA\" : match output = CA\n",
      "\"Area Manager - ca\" : match output = ca\n",
      "\"we can do this\" : match output = \n"
     ]
    }
   ],
   "source": [
    "# \"state_name.csv\" contains state names and their abbrevations.\n",
    "state_name_data = pd.read_csv(\"state_name.csv\")\n",
    "state_name = [w.lower() for w in list(state_name_data.state)]\n",
    "state_abb = [w.lower() for w in list(state_name_data.abbrevation)]\n",
    "\n",
    "others = ['dc','north','south','east','west',\n",
    "          'northeast','northwest','southeast','southwest',\n",
    "          'pacific','atlantic']\n",
    "\n",
    "combine = state_name + state_abb + others\n",
    "\n",
    "print('--- list of state names and their abbrevations ---')\n",
    "print('')\n",
    "print(combine)\n",
    "print('')\n",
    "regex = '|'.join(['\\\\b' + w + '\\\\b' for w in combine])\n",
    "\n",
    "print('--- some examples ---')\n",
    "print('')\n",
    "\n",
    "title = 'Area Manager - CA'\n",
    "print('\"' + title + '\" : match output = ' + '|'.join(re.findall(regex,title,re.IGNORECASE)))\n",
    "\n",
    "title = 'Area Manager - ca'\n",
    "print('\"' + title + '\" : match output = ' + '|'.join(re.findall(regex,title,re.IGNORECASE)))\n",
    "\n",
    "title = 'we can do this'\n",
    "print('\"' + title + '\" : match output = ' + '|'.join(re.findall(regex,title,re.IGNORECASE)))"
   ]
  },
  {
   "cell_type": "markdown",
   "metadata": {},
   "source": [
    "* As seen above, a regular expression can be employed to detect \"CA\" from a job title \"Area Manager - CA\". The \"re.IGNORECASE\" option is added capture \"Area Manager - ca\". Finally, the \"\\b\" in the regular expression ensures that we are not detecting \"ca\" in \"we **ca**n do this\"."
   ]
  },
  {
   "cell_type": "code",
   "execution_count": 3,
   "metadata": {
    "scrolled": true
   },
   "outputs": [
    {
     "data": {
      "text/html": [
       "<div>\n",
       "<style>\n",
       "    .dataframe thead tr:only-child th {\n",
       "        text-align: right;\n",
       "    }\n",
       "\n",
       "    .dataframe thead th {\n",
       "        text-align: left;\n",
       "    }\n",
       "\n",
       "    .dataframe tbody tr th {\n",
       "        vertical-align: top;\n",
       "    }\n",
       "</style>\n",
       "<table border=\"1\" class=\"dataframe\">\n",
       "  <thead>\n",
       "    <tr style=\"text-align: right;\">\n",
       "      <th></th>\n",
       "      <th>original_jobtitle</th>\n",
       "      <th>titleloc</th>\n",
       "      <th>jobtitle</th>\n",
       "      <th>countword</th>\n",
       "    </tr>\n",
       "  </thead>\n",
       "  <tbody>\n",
       "    <tr>\n",
       "      <th>2</th>\n",
       "      <td>Human Resources Manager, AL</td>\n",
       "      <td>1</td>\n",
       "      <td>human resources manager,</td>\n",
       "      <td>3</td>\n",
       "    </tr>\n",
       "    <tr>\n",
       "      <th>9</th>\n",
       "      <td>General Manager - Pacific Region</td>\n",
       "      <td>1</td>\n",
       "      <td>general manager -  region</td>\n",
       "      <td>3</td>\n",
       "    </tr>\n",
       "    <tr>\n",
       "      <th>33</th>\n",
       "      <td>Area Manager - KY</td>\n",
       "      <td>1</td>\n",
       "      <td>area manager -</td>\n",
       "      <td>2</td>\n",
       "    </tr>\n",
       "    <tr>\n",
       "      <th>36</th>\n",
       "      <td>Associate Finance Director - OR</td>\n",
       "      <td>1</td>\n",
       "      <td>associate finance director -</td>\n",
       "      <td>3</td>\n",
       "    </tr>\n",
       "    <tr>\n",
       "      <th>40</th>\n",
       "      <td>Territory Manager / Pittsburgh North</td>\n",
       "      <td>1</td>\n",
       "      <td>territory manager / pittsburgh</td>\n",
       "      <td>3</td>\n",
       "    </tr>\n",
       "  </tbody>\n",
       "</table>\n",
       "</div>"
      ],
      "text/plain": [
       "                       original_jobtitle  titleloc  \\\n",
       "2            Human Resources Manager, AL         1   \n",
       "9       General Manager - Pacific Region         1   \n",
       "33                     Area Manager - KY         1   \n",
       "36       Associate Finance Director - OR         1   \n",
       "40  Territory Manager / Pittsburgh North         1   \n",
       "\n",
       "                           jobtitle  countword  \n",
       "2         human resources manager,           3  \n",
       "9         general manager -  region          3  \n",
       "33                  area manager -           2  \n",
       "36    associate finance director -           3  \n",
       "40  territory manager / pittsburgh           3  "
      ]
     },
     "execution_count": 3,
     "metadata": {},
     "output_type": "execute_result"
    }
   ],
   "source": [
    "def detect_location(title,regex):\n",
    "    # check if the job title itself contains information on location (state, region)\n",
    "    if re.findall(regex,title,re.IGNORECASE):\n",
    "        output = 1 # return 1 if yes\n",
    "    else:\n",
    "        output = 0 # return 0 if no\n",
    "    return output\n",
    "\n",
    "def count_word(title):\n",
    "    tokens = [w for w in nltk.word_tokenize(title.lower()) if not w in stop_words]\n",
    "    selected_tokens = [w for w in tokens if re.findall(r'[a-z]+',w)]\n",
    "    return len(selected_tokens)\n",
    "\n",
    "# create a new binary variable 'titleloc', which equals to 1 if the title mentions location \n",
    "df['titleloc'] = df['original_jobtitle'].apply(lambda x: detect_location(x,regex))\n",
    "\n",
    "# remove location from job titles\n",
    "df['jobtitle'] = df['original_jobtitle'].apply(lambda x: re.sub(regex,'',x.lower()))\n",
    "\n",
    "# count number of words in the job titles\n",
    "df['countword'] = df['jobtitle'].apply(lambda x: count_word(x))\n",
    "\n",
    "# see examples\n",
    "df[['original_jobtitle','titleloc','jobtitle','countword']][df.titleloc == 1].head()"
   ]
  },
  {
   "cell_type": "markdown",
   "metadata": {},
   "source": [
    "* As seen above, the recently created \"titleloc\" feature equals one when we are able to detect information on location. The \"jobtitle\" feature converts the original job titles from postings, \"original_jobtitle\", to lowercase and remove detected information on location. The \"countword\" feature counts number of words in \"jobtitle\".      "
   ]
  },
  {
   "cell_type": "code",
   "execution_count": 4,
   "metadata": {},
   "outputs": [
    {
     "name": "stdout",
     "output_type": "stream",
     "text": [
      "Total number of features = 2018\n"
     ]
    },
    {
     "data": {
      "text/html": [
       "<div>\n",
       "<style>\n",
       "    .dataframe thead tr:only-child th {\n",
       "        text-align: right;\n",
       "    }\n",
       "\n",
       "    .dataframe thead th {\n",
       "        text-align: left;\n",
       "    }\n",
       "\n",
       "    .dataframe tbody tr th {\n",
       "        vertical-align: top;\n",
       "    }\n",
       "</style>\n",
       "<table border=\"1\" class=\"dataframe\">\n",
       "  <thead>\n",
       "    <tr style=\"text-align: right;\">\n",
       "      <th></th>\n",
       "      <th>feat_name</th>\n",
       "    </tr>\n",
       "    <tr>\n",
       "      <th>feat_type</th>\n",
       "      <th></th>\n",
       "    </tr>\n",
       "  </thead>\n",
       "  <tbody>\n",
       "    <tr>\n",
       "      <th>countword</th>\n",
       "      <td>3</td>\n",
       "    </tr>\n",
       "    <tr>\n",
       "      <th>edu</th>\n",
       "      <td>5</td>\n",
       "    </tr>\n",
       "    <tr>\n",
       "      <th>jobtitle</th>\n",
       "      <td>1583</td>\n",
       "    </tr>\n",
       "    <tr>\n",
       "      <th>naics</th>\n",
       "      <td>335</td>\n",
       "    </tr>\n",
       "    <tr>\n",
       "      <th>onet</th>\n",
       "      <td>40</td>\n",
       "    </tr>\n",
       "    <tr>\n",
       "      <th>state</th>\n",
       "      <td>51</td>\n",
       "    </tr>\n",
       "    <tr>\n",
       "      <th>titleloc</th>\n",
       "      <td>1</td>\n",
       "    </tr>\n",
       "  </tbody>\n",
       "</table>\n",
       "</div>"
      ],
      "text/plain": [
       "           feat_name\n",
       "feat_type           \n",
       "countword          3\n",
       "edu                5\n",
       "jobtitle        1583\n",
       "naics            335\n",
       "onet              40\n",
       "state             51\n",
       "titleloc           1"
      ]
     },
     "execution_count": 4,
     "metadata": {},
     "output_type": "execute_result"
    }
   ],
   "source": [
    "# vectorize all features (see posting_vectorizer.py)\n",
    "list_of_features = ['state','edu','naics','onet','jobtitle','titleloc','countword']\n",
    "\n",
    "features_array, df_features = selected_features(df, list_of_features)\n",
    "n_features = len(df_features)\n",
    "print('Total number of features = ' + str(n_features))\n",
    "df_features[['feat_type','feat_name']].groupby('feat_type').count()"
   ]
  },
  {
   "cell_type": "markdown",
   "metadata": {},
   "source": [
    "All types of features:\n",
    "1. \"countword\" : number of words in the job titles (up to third degree polynomials). \n",
    "2. \"edu\" : education requirement (\"high_shool\", \"associate\" ,\"bachelor\", \"master\", \"phd\").\n",
    "3. \"jobtitle\" : countvectorizer of job titles.\n",
    "4. \"naics\" : industry code\n",
    "5. \"state\" : location of a company (50 states + DC)\n",
    "6. \"titleloc\" : a binary varialble (=1 if we detect information on location in job titles)."
   ]
  },
  {
   "cell_type": "code",
   "execution_count": 5,
   "metadata": {
    "scrolled": true
   },
   "outputs": [
    {
     "name": "stdout",
     "output_type": "stream",
     "text": [
      "Percentage of ads with information on location in the job titles = 14.67\n"
     ]
    }
   ],
   "source": [
    "pct_loc = ( df[df.titleloc == True].titleloc.count() / 10000 )*100\n",
    "print('Percentage of ads with information on location in the job titles = ' + str(pct_loc))"
   ]
  },
  {
   "cell_type": "markdown",
   "metadata": {},
   "source": [
    "### Split into train and test set"
   ]
  },
  {
   "cell_type": "code",
   "execution_count": 6,
   "metadata": {
    "collapsed": true
   },
   "outputs": [],
   "source": [
    "x = features_array\n",
    "y = df.roe\n",
    "\n",
    "# split into train and test set\n",
    "_, itest = train_test_split(range(x.shape[0]), \n",
    "                            train_size=0.7, \n",
    "                            test_size=0.3, \n",
    "                            random_state = 0)\n",
    "\n",
    "mask = np.zeros(x.shape[0], dtype=np.bool)\n",
    "mask[itest] = True\n",
    "\n",
    "# train set\n",
    "x_train = x[mask]\n",
    "y_train = y[mask]\n",
    "\n",
    "# test set\n",
    "x_test = x[~mask]\n",
    "y_test = y[~mask]"
   ]
  },
  {
   "cell_type": "markdown",
   "metadata": {
    "collapsed": true
   },
   "source": [
    "### Models\n",
    "\n",
    "I use the following models with default settings: \n",
    "\n",
    "1. Linear Regression\n",
    "2. Ridge Regression \n",
    "3. Lasso\n",
    "4. Stochastic Gradient Descent (SGDRegressor)\n",
    "5. Multi-layer Perceptron Regressor (MLPRegressor) \n",
    "6. Random Forest Regressor\n",
    "\n",
    "The accuracy measure is mean squared error."
   ]
  },
  {
   "cell_type": "code",
   "execution_count": 7,
   "metadata": {},
   "outputs": [
    {
     "name": "stdout",
     "output_type": "stream",
     "text": [
      "--- Linear Regression ---\n",
      "MSE (train set) = 0.0120\n",
      "MSE (test set) = 0.0896\n",
      "\n",
      "--- Ridge Regression ---\n",
      "MSE (train set) = 0.0192\n",
      "MSE (test set) = 0.0355\n",
      "\n",
      "--- Lasso Regression ---\n",
      "MSE (train set) = 0.0610\n",
      "MSE (test set) = 0.0605\n",
      "\n"
     ]
    },
    {
     "name": "stderr",
     "output_type": "stream",
     "text": [
      "C:\\Users\\phongthiengt\\AppData\\Local\\Continuum\\anaconda3\\lib\\site-packages\\sklearn\\linear_model\\stochastic_gradient.py:84: FutureWarning: max_iter and tol parameters have been added in <class 'sklearn.linear_model.stochastic_gradient.SGDRegressor'> in 0.19. If both are left unset, they default to max_iter=5 and tol=None. If tol is not None, max_iter defaults to max_iter=1000. From 0.21, default max_iter will be 1000, and default tol will be 1e-3.\n",
      "  \"and default tol will be 1e-3.\" % type(self), FutureWarning)\n"
     ]
    },
    {
     "name": "stdout",
     "output_type": "stream",
     "text": [
      "--- Stochastic Gradient Descent ---\n",
      "MSE (train set) = 0.0469\n",
      "MSE (test set) = 0.0490\n",
      "\n",
      "--- Multi-layer Perceptron Regressor ---\n",
      "MSE (train set) = 0.0341\n",
      "MSE (test set) = 0.0507\n",
      "\n",
      "--- Random Forest Regressor ---\n",
      "MSE (train set) = 0.0057\n",
      "MSE (test set) = 0.0328\n",
      "\n"
     ]
    }
   ],
   "source": [
    "def compute_mse(lm, x ,y):\n",
    "    mse = np.mean((y - lm.predict(x)) ** 2) # compute mean squared error\n",
    "    return mse\n",
    "\n",
    "def format_mse(mse):\n",
    "    return \"{0:.4f}\".format(mse)\n",
    "\n",
    "# Linear Regression\n",
    "lm = LinearRegression()\n",
    "lm.fit(x_train, y_train)\n",
    "mse_train = compute_mse(lm, x_train ,y_train)\n",
    "mse_test = compute_mse(lm, x_test ,y_test)\n",
    "\n",
    "print('--- Linear Regression ---')\n",
    "print('MSE (train set) = ' + format_mse(mse_train))\n",
    "print('MSE (test set) = ' + format_mse(mse_test))\n",
    "print('')\n",
    "\n",
    "# Ridge Regression\n",
    "lm = Ridge()\n",
    "lm.fit(x_train, y_train)\n",
    "mse_train = compute_mse(lm, x_train ,y_train)\n",
    "mse_test = compute_mse(lm, x_test ,y_test)\n",
    "\n",
    "print('--- Ridge Regression ---')\n",
    "print('MSE (train set) = ' + format_mse(mse_train))\n",
    "print('MSE (test set) = ' + format_mse(mse_test))\n",
    "print('')\n",
    "\n",
    "# Lasso Regression\n",
    "lm = Lasso()\n",
    "lm.fit(x_train, y_train)\n",
    "mse_train = compute_mse(lm, x_train ,y_train)\n",
    "mse_test = compute_mse(lm, x_test ,y_test)\n",
    "\n",
    "print('--- Lasso Regression ---')\n",
    "print('MSE (train set) = ' + format_mse(mse_train))\n",
    "print('MSE (test set) = ' + format_mse(mse_test))\n",
    "print('')\n",
    "\n",
    "# Stochastic Gradient Descent\n",
    "lm = SGDRegressor()\n",
    "lm.fit(x_train, y_train)\n",
    "mse_train = compute_mse(lm, x_train ,y_train)\n",
    "mse_test = compute_mse(lm, x_test ,y_test)\n",
    "\n",
    "print('--- Stochastic Gradient Descent ---')\n",
    "print('MSE (train set) = ' + format_mse(mse_train))\n",
    "print('MSE (test set) = ' + format_mse(mse_test))\n",
    "print('')\n",
    "\n",
    "# Multi-layer Perceptron Regressor\n",
    "lm = MLPRegressor()\n",
    "lm.fit(x_train, y_train)\n",
    "mse_train = compute_mse(lm, x_train ,y_train)\n",
    "mse_test = compute_mse(lm, x_test ,y_test)\n",
    "\n",
    "print('--- Multi-layer Perceptron Regressor ---')\n",
    "print('MSE (train set) = ' + format_mse(mse_train))\n",
    "print('MSE (test set) = ' + format_mse(mse_test))\n",
    "print('')\n",
    "\n",
    "# RandomForestRegressor\n",
    "lm = RandomForestRegressor(random_state=0)\n",
    "lm.fit(x_train, y_train)\n",
    "mse_train = compute_mse(lm, x_train ,y_train)\n",
    "mse_test = compute_mse(lm, x_test ,y_test)\n",
    "\n",
    "print('--- Random Forest Regressor ---')\n",
    "print('MSE (train set) = ' + format_mse(mse_train))\n",
    "print('MSE (test set) = ' + format_mse(mse_test))\n",
    "print('')"
   ]
  },
  {
   "cell_type": "markdown",
   "metadata": {},
   "source": [
    "* Overall, ridge regression performs relatively well."
   ]
  },
  {
   "cell_type": "markdown",
   "metadata": {},
   "source": [
    "### Ridge Regression Results\n",
    "\n",
    "This sub-section explores some of the interesting results from the ridge regression.  "
   ]
  },
  {
   "cell_type": "code",
   "execution_count": 8,
   "metadata": {},
   "outputs": [
    {
     "data": {
      "text/plain": [
       "Ridge(alpha=1.0, copy_X=True, fit_intercept=True, max_iter=None,\n",
       "   normalize=False, random_state=None, solver='auto', tol=0.001)"
      ]
     },
     "execution_count": 8,
     "metadata": {},
     "output_type": "execute_result"
    }
   ],
   "source": [
    "lm = Ridge()\n",
    "lm.fit(x, y)"
   ]
  },
  {
   "cell_type": "code",
   "execution_count": 9,
   "metadata": {},
   "outputs": [
    {
     "data": {
      "text/plain": [
       "(2018,)"
      ]
     },
     "execution_count": 9,
     "metadata": {},
     "output_type": "execute_result"
    }
   ],
   "source": [
    "x = lm.coef_\n",
    "df_features['coef'] = lm.coef_ # add coefficients to the dataframe\n",
    "x.shape"
   ]
  },
  {
   "cell_type": "code",
   "execution_count": 10,
   "metadata": {},
   "outputs": [
    {
     "data": {
      "text/html": [
       "<div>\n",
       "<style>\n",
       "    .dataframe thead tr:only-child th {\n",
       "        text-align: right;\n",
       "    }\n",
       "\n",
       "    .dataframe thead th {\n",
       "        text-align: left;\n",
       "    }\n",
       "\n",
       "    .dataframe tbody tr th {\n",
       "        vertical-align: top;\n",
       "    }\n",
       "</style>\n",
       "<table border=\"1\" class=\"dataframe\">\n",
       "  <thead>\n",
       "    <tr style=\"text-align: right;\">\n",
       "      <th></th>\n",
       "      <th>feat_type</th>\n",
       "      <th>feat_name</th>\n",
       "      <th>coef</th>\n",
       "    </tr>\n",
       "  </thead>\n",
       "  <tbody>\n",
       "    <tr>\n",
       "      <th>2014</th>\n",
       "      <td>titleloc</td>\n",
       "      <td>titleloc</td>\n",
       "      <td>0.01766</td>\n",
       "    </tr>\n",
       "  </tbody>\n",
       "</table>\n",
       "</div>"
      ],
      "text/plain": [
       "     feat_type feat_name     coef\n",
       "2014  titleloc  titleloc  0.01766"
      ]
     },
     "execution_count": 10,
     "metadata": {},
     "output_type": "execute_result"
    }
   ],
   "source": [
    "df_results_titleloc = df_features[['feat_type','feat_name','coef']][df_features.feat_type == 'titleloc']\n",
    "df_results_titleloc"
   ]
  },
  {
   "cell_type": "code",
   "execution_count": 11,
   "metadata": {},
   "outputs": [
    {
     "data": {
      "text/html": [
       "<div>\n",
       "<style>\n",
       "    .dataframe thead tr:only-child th {\n",
       "        text-align: right;\n",
       "    }\n",
       "\n",
       "    .dataframe thead th {\n",
       "        text-align: left;\n",
       "    }\n",
       "\n",
       "    .dataframe tbody tr th {\n",
       "        vertical-align: top;\n",
       "    }\n",
       "</style>\n",
       "<table border=\"1\" class=\"dataframe\">\n",
       "  <thead>\n",
       "    <tr style=\"text-align: right;\">\n",
       "      <th></th>\n",
       "      <th>feat_type</th>\n",
       "      <th>feat_name</th>\n",
       "      <th>coef</th>\n",
       "    </tr>\n",
       "  </thead>\n",
       "  <tbody>\n",
       "    <tr>\n",
       "      <th>2015</th>\n",
       "      <td>countword</td>\n",
       "      <td>countword_poly_1</td>\n",
       "      <td>0.004857</td>\n",
       "    </tr>\n",
       "    <tr>\n",
       "      <th>2016</th>\n",
       "      <td>countword</td>\n",
       "      <td>countword_poly_2</td>\n",
       "      <td>-0.000801</td>\n",
       "    </tr>\n",
       "    <tr>\n",
       "      <th>2017</th>\n",
       "      <td>countword</td>\n",
       "      <td>countword_poly_3</td>\n",
       "      <td>-0.000019</td>\n",
       "    </tr>\n",
       "  </tbody>\n",
       "</table>\n",
       "</div>"
      ],
      "text/plain": [
       "      feat_type         feat_name      coef\n",
       "2015  countword  countword_poly_1  0.004857\n",
       "2016  countword  countword_poly_2 -0.000801\n",
       "2017  countword  countword_poly_3 -0.000019"
      ]
     },
     "execution_count": 11,
     "metadata": {},
     "output_type": "execute_result"
    }
   ],
   "source": [
    "df_results_countword = df_features[['feat_type','feat_name','coef']][df_features.feat_type == 'countword']\n",
    "df_results_countword"
   ]
  },
  {
   "cell_type": "markdown",
   "metadata": {},
   "source": [
    "### Discussion\n",
    "\n",
    "1. Job titles should not be too long. Suppose the coefficients in the polymonial terms are: $ROE = a*(word) + b*(word)^2$, then the optimal number of words is around $-\\frac{a}{2b} = \\frac{0.004857}{2*0.000801} = 3.03$. On average, the length of job titles should not exceed 3-4 words. \n",
    "2. Companies that put information of their location into job titles tend to perform better, as the coefficient of the ridge regression is positive (~0.018). The causal relationship, however, is not clear. Most likely, we have a confounding variable as expanding companies are the ones that performing well. As they are expanding to other area, they tend to put information on the new location into job tities. "
   ]
  }
 ],
 "metadata": {
  "kernelspec": {
   "display_name": "Python 3",
   "language": "python",
   "name": "python3"
  },
  "language_info": {
   "codemirror_mode": {
    "name": "ipython",
    "version": 3
   },
   "file_extension": ".py",
   "mimetype": "text/x-python",
   "name": "python",
   "nbconvert_exporter": "python",
   "pygments_lexer": "ipython3",
   "version": "3.6.2"
  }
 },
 "nbformat": 4,
 "nbformat_minor": 2
}
