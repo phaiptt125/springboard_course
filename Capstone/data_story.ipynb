{
 "cells": [
  {
   "cell_type": "markdown",
   "metadata": {},
   "source": [
    "# Data Story\n",
    "Phai Phongthiengtham\n",
    "\n",
    "***"
   ]
  },
  {
   "cell_type": "markdown",
   "metadata": {},
   "source": [
    "This section provides some basic data exploration:"
   ]
  },
  {
   "cell_type": "markdown",
   "metadata": {},
   "source": [
    "### Import necessary modules and dataset"
   ]
  },
  {
   "cell_type": "code",
   "execution_count": 1,
   "metadata": {
    "collapsed": true
   },
   "outputs": [],
   "source": [
    "import math\n",
    "import re\n",
    "import numpy as np\n",
    "import scipy as sp\n",
    "import matplotlib as mpl\n",
    "import matplotlib.cm as cm\n",
    "import matplotlib.pyplot as plt\n",
    "import pandas as pd\n",
    "import seaborn as sns\n",
    "sns.set_palette(\"deep\", desat=.6)\n",
    "sns.set_context(rc={\"figure.figsize\": (8,4)})\n",
    "%matplotlib inline\n",
    "from six.moves import range\n",
    "from sklearn.feature_extraction.text import CountVectorizer, TfidfVectorizer\n",
    "from sklearn.naive_bayes import MultinomialNB\n",
    "from sklearn.metrics import confusion_matrix\n",
    "from sklearn.feature_selection import SelectKBest, chi2\n",
    "from sklearn.model_selection import KFold, train_test_split\n",
    "from sklearn.neural_network import MLPRegressor\n",
    "from sklearn.ensemble import RandomForestRegressor\n",
    "from sklearn.linear_model import LinearRegression, Lasso, Ridge, ElasticNet, SGDRegressor\n",
    "\n",
    "from identify_outlier import *\n",
    "\n",
    "dataset_file_name = 'data_10K_no_description.txt'\n",
    "df = pd.read_csv(dataset_file_name,sep='\\t',header=0)\n",
    "\n",
    "all_edu = ['high_school','associate','bachelor','master','phd']\n",
    "list_var = ['conml','state','ceq','roe','naics','original_jobtitle','onet'] + all_edu \n",
    "df['n'] = 1"
   ]
  },
  {
   "cell_type": "markdown",
   "metadata": {},
   "source": [
    "### Profitability\n",
    "\n",
    "This project uses \"Return on Equity - ROE\": the amount of net income returned as a percantage of shareholders equity (excluding preferred stock).\n",
    "\n",
    "$$ \\text{Return on Equity} = \\frac{\\text{Net Income}}{\\text{Shareholder's Equity}}$$"
   ]
  },
  {
   "cell_type": "code",
   "execution_count": 2,
   "metadata": {},
   "outputs": [
    {
     "name": "stdout",
     "output_type": "stream",
     "text": [
      "Average ROE = 0.06442578079295365\n",
      "Median ROE = 0.09179339794980393\n"
     ]
    },
    {
     "data": {
      "text/plain": [
       "<matplotlib.text.Text at 0x2ac89911438>"
      ]
     },
     "execution_count": 2,
     "metadata": {},
     "output_type": "execute_result"
    },
    {
     "data": {
      "image/png": "[encoded data removed]",
      "text/plain": [
       "<matplotlib.figure.Figure at 0x2ac857726a0>"
      ]
     },
     "metadata": {},
     "output_type": "display_data"
    }
   ],
   "source": [
    "roe_by_firm = df[['conml','roe']].drop_duplicates()\n",
    "roe_by_firm = roe_by_firm.sort_values('roe')\n",
    "\n",
    "print('Average ROE = ' + str(roe_by_firm.roe.mean()))\n",
    "print('Median ROE = ' + str(roe_by_firm.roe.median()))\n",
    "\n",
    "sns.distplot(roe_by_firm.roe, norm_hist = True, color=sns.desaturate(\"indianred\",1))\n",
    "plt.title(\"Return on Equity\")"
   ]
  },
  {
   "cell_type": "markdown",
   "metadata": {},
   "source": [
    "* From the data, we see average ROE of 6.4%. There is, however, a huge spread. Median ROE is 9.18% and we have upto -96.5% and 89% ROE."
   ]
  },
  {
   "cell_type": "code",
   "execution_count": 3,
   "metadata": {},
   "outputs": [
    {
     "data": {
      "text/html": [
       "<div>\n",
       "<style>\n",
       "    .dataframe thead tr:only-child th {\n",
       "        text-align: right;\n",
       "    }\n",
       "\n",
       "    .dataframe thead th {\n",
       "        text-align: left;\n",
       "    }\n",
       "\n",
       "    .dataframe tbody tr th {\n",
       "        vertical-align: top;\n",
       "    }\n",
       "</style>\n",
       "<table border=\"1\" class=\"dataframe\">\n",
       "  <thead>\n",
       "    <tr style=\"text-align: right;\">\n",
       "      <th></th>\n",
       "      <th>conml</th>\n",
       "      <th>roe</th>\n",
       "    </tr>\n",
       "  </thead>\n",
       "  <tbody>\n",
       "    <tr>\n",
       "      <th>4825</th>\n",
       "      <td>AxoGen Inc</td>\n",
       "      <td>-0.965820</td>\n",
       "    </tr>\n",
       "    <tr>\n",
       "      <th>5427</th>\n",
       "      <td>Global Brokerage Inc</td>\n",
       "      <td>-0.964541</td>\n",
       "    </tr>\n",
       "    <tr>\n",
       "      <th>358</th>\n",
       "      <td>Brinker International Inc.</td>\n",
       "      <td>-0.942027</td>\n",
       "    </tr>\n",
       "    <tr>\n",
       "      <th>7375</th>\n",
       "      <td>Sirius XM Holdings Inc</td>\n",
       "      <td>-0.941817</td>\n",
       "    </tr>\n",
       "    <tr>\n",
       "      <th>911</th>\n",
       "      <td>GoPro Inc</td>\n",
       "      <td>-0.937482</td>\n",
       "    </tr>\n",
       "  </tbody>\n",
       "</table>\n",
       "</div>"
      ],
      "text/plain": [
       "                           conml       roe\n",
       "4825                  AxoGen Inc -0.965820\n",
       "5427        Global Brokerage Inc -0.964541\n",
       "358   Brinker International Inc. -0.942027\n",
       "7375      Sirius XM Holdings Inc -0.941817\n",
       "911                    GoPro Inc -0.937482"
      ]
     },
     "execution_count": 3,
     "metadata": {},
     "output_type": "execute_result"
    }
   ],
   "source": [
    "roe_by_firm[:5]"
   ]
  },
  {
   "cell_type": "markdown",
   "metadata": {},
   "source": [
    "* Companies with the lowest ROE."
   ]
  },
  {
   "cell_type": "code",
   "execution_count": 4,
   "metadata": {},
   "outputs": [
    {
     "data": {
      "text/html": [
       "<div>\n",
       "<style>\n",
       "    .dataframe thead tr:only-child th {\n",
       "        text-align: right;\n",
       "    }\n",
       "\n",
       "    .dataframe thead th {\n",
       "        text-align: left;\n",
       "    }\n",
       "\n",
       "    .dataframe tbody tr th {\n",
       "        vertical-align: top;\n",
       "    }\n",
       "</style>\n",
       "<table border=\"1\" class=\"dataframe\">\n",
       "  <thead>\n",
       "    <tr style=\"text-align: right;\">\n",
       "      <th></th>\n",
       "      <th>conml</th>\n",
       "      <th>roe</th>\n",
       "    </tr>\n",
       "  </thead>\n",
       "  <tbody>\n",
       "    <tr>\n",
       "      <th>2933</th>\n",
       "      <td>Avis Budget Group Inc</td>\n",
       "      <td>0.737557</td>\n",
       "    </tr>\n",
       "    <tr>\n",
       "      <th>935</th>\n",
       "      <td>Glaxosmithkline PLC</td>\n",
       "      <td>0.811387</td>\n",
       "    </tr>\n",
       "    <tr>\n",
       "      <th>413</th>\n",
       "      <td>Novo Nordisk A/S</td>\n",
       "      <td>0.837770</td>\n",
       "    </tr>\n",
       "    <tr>\n",
       "      <th>139</th>\n",
       "      <td>Intuit Inc.</td>\n",
       "      <td>0.843239</td>\n",
       "    </tr>\n",
       "    <tr>\n",
       "      <th>3201</th>\n",
       "      <td>Blue Buffalo Pet Products Inc</td>\n",
       "      <td>0.890001</td>\n",
       "    </tr>\n",
       "  </tbody>\n",
       "</table>\n",
       "</div>"
      ],
      "text/plain": [
       "                              conml       roe\n",
       "2933          Avis Budget Group Inc  0.737557\n",
       "935             Glaxosmithkline PLC  0.811387\n",
       "413                Novo Nordisk A/S  0.837770\n",
       "139                     Intuit Inc.  0.843239\n",
       "3201  Blue Buffalo Pet Products Inc  0.890001"
      ]
     },
     "execution_count": 4,
     "metadata": {},
     "output_type": "execute_result"
    }
   ],
   "source": [
    "roe_by_firm[-5:]"
   ]
  },
  {
   "cell_type": "markdown",
   "metadata": {},
   "source": [
    "* Companies with the highest ROE."
   ]
  },
  {
   "cell_type": "code",
   "execution_count": 5,
   "metadata": {},
   "outputs": [
    {
     "data": {
      "text/html": [
       "<div>\n",
       "<style>\n",
       "    .dataframe thead tr:only-child th {\n",
       "        text-align: right;\n",
       "    }\n",
       "\n",
       "    .dataframe thead th {\n",
       "        text-align: left;\n",
       "    }\n",
       "\n",
       "    .dataframe tbody tr th {\n",
       "        vertical-align: top;\n",
       "    }\n",
       "</style>\n",
       "<table border=\"1\" class=\"dataframe\">\n",
       "  <thead>\n",
       "    <tr style=\"text-align: right;\">\n",
       "      <th></th>\n",
       "      <th>n</th>\n",
       "    </tr>\n",
       "    <tr>\n",
       "      <th>high_roe</th>\n",
       "      <th></th>\n",
       "    </tr>\n",
       "  </thead>\n",
       "  <tbody>\n",
       "    <tr>\n",
       "      <th>False</th>\n",
       "      <td>3603</td>\n",
       "    </tr>\n",
       "    <tr>\n",
       "      <th>True</th>\n",
       "      <td>6397</td>\n",
       "    </tr>\n",
       "  </tbody>\n",
       "</table>\n",
       "</div>"
      ],
      "text/plain": [
       "             n\n",
       "high_roe      \n",
       "False     3603\n",
       "True      6397"
      ]
     },
     "execution_count": 5,
     "metadata": {},
     "output_type": "execute_result"
    }
   ],
   "source": [
    "# create a feature \"roe_high\" = 1 if roe is higher than the median roe in the sample:\n",
    "df['high_roe'] = (df.roe > roe_by_firm.roe.median()).values\n",
    "df[['high_roe','n']].groupby(['high_roe']).count()"
   ]
  },
  {
   "cell_type": "markdown",
   "metadata": {},
   "source": [
    "* The variable *\"high_roe\"* is *True* if the company has higher ROE than the median ROE in the sample. \n",
    "* Successful companies post more ads."
   ]
  },
  {
   "cell_type": "markdown",
   "metadata": {},
   "source": [
    "### Occupation\n",
    "\n",
    "Next, we look at the postings by occupation. Overall, there are three main occupation groups:"
   ]
  },
  {
   "cell_type": "code",
   "execution_count": 6,
   "metadata": {},
   "outputs": [
    {
     "data": {
      "text/plain": [
       "array(['119 : Other Management Occupations', '113 : Operations Managers',\n",
       "       '112 : Advertising, Public Relations, and Sales Managers',\n",
       "       '111 : Top Executives'], dtype=object)"
      ]
     },
     "execution_count": 6,
     "metadata": {},
     "output_type": "execute_result"
    }
   ],
   "source": [
    "def assign_onet3digit_description(onet, full_description = True):\n",
    "    if re.findall(r'\\d{2}-\\d{1}',onet):\n",
    "        onet3digit = re.findall(r'\\d{2}-\\d{1}',onet)[0]\n",
    "        if full_description == True:\n",
    "            if onet3digit == '11-1':\n",
    "                output = '111 : Top Executives'\n",
    "            elif onet3digit == '11-2': \n",
    "                output = '112 : Advertising, Public Relations, and Sales Managers'\n",
    "            elif onet3digit == '11-3': \n",
    "                output = '113 : Operations Managers'\n",
    "            elif onet3digit == '11-9':\n",
    "                output = '119 : Other Management Occupations'\n",
    "        else:\n",
    "            output = re.sub('[^0-9]','',onet3digit)\n",
    "            \n",
    "    return output\n",
    "\n",
    "df['onet3digit'] = df['onet'].apply(lambda x: assign_onet3digit_description(x, full_description = True))\n",
    "df['onet3digit_numer'] = df['onet'].apply(lambda x: assign_onet3digit_description(x, full_description = False))\n",
    "df['onet3digit'].unique()"
   ]
  },
  {
   "cell_type": "code",
   "execution_count": 7,
   "metadata": {},
   "outputs": [
    {
     "data": {
      "text/html": [
       "<div>\n",
       "<style>\n",
       "    .dataframe thead tr:only-child th {\n",
       "        text-align: right;\n",
       "    }\n",
       "\n",
       "    .dataframe thead th {\n",
       "        text-align: left;\n",
       "    }\n",
       "\n",
       "    .dataframe tbody tr th {\n",
       "        vertical-align: top;\n",
       "    }\n",
       "</style>\n",
       "<table border=\"1\" class=\"dataframe\">\n",
       "  <thead>\n",
       "    <tr style=\"text-align: right;\">\n",
       "      <th></th>\n",
       "      <th>n</th>\n",
       "    </tr>\n",
       "    <tr>\n",
       "      <th>onet3digit</th>\n",
       "      <th></th>\n",
       "    </tr>\n",
       "  </thead>\n",
       "  <tbody>\n",
       "    <tr>\n",
       "      <th>111 : Top Executives</th>\n",
       "      <td>1223</td>\n",
       "    </tr>\n",
       "    <tr>\n",
       "      <th>112 : Advertising, Public Relations, and Sales Managers</th>\n",
       "      <td>2672</td>\n",
       "    </tr>\n",
       "    <tr>\n",
       "      <th>113 : Operations Managers</th>\n",
       "      <td>2590</td>\n",
       "    </tr>\n",
       "    <tr>\n",
       "      <th>119 : Other Management Occupations</th>\n",
       "      <td>3515</td>\n",
       "    </tr>\n",
       "  </tbody>\n",
       "</table>\n",
       "</div>"
      ],
      "text/plain": [
       "                                                       n\n",
       "onet3digit                                              \n",
       "111 : Top Executives                                1223\n",
       "112 : Advertising, Public Relations, and Sales ...  2672\n",
       "113 : Operations Managers                           2590\n",
       "119 : Other Management Occupations                  3515"
      ]
     },
     "execution_count": 7,
     "metadata": {},
     "output_type": "execute_result"
    }
   ],
   "source": [
    "df_occ = df[['onet3digit','n']]\n",
    "df_occ = df_occ.groupby(['onet3digit']).count()\n",
    "df_occ"
   ]
  },
  {
   "cell_type": "markdown",
   "metadata": {},
   "source": [
    "* Most ads are *Other Management Occupations*. See ONET website [here](https://www.onetonline.org/find/quick?s=119) for more detail. "
   ]
  },
  {
   "cell_type": "code",
   "execution_count": 8,
   "metadata": {},
   "outputs": [
    {
     "data": {
      "text/html": [
       "<div>\n",
       "<style>\n",
       "    .dataframe thead tr:only-child th {\n",
       "        text-align: right;\n",
       "    }\n",
       "\n",
       "    .dataframe thead th {\n",
       "        text-align: left;\n",
       "    }\n",
       "\n",
       "    .dataframe tbody tr th {\n",
       "        vertical-align: top;\n",
       "    }\n",
       "</style>\n",
       "<table border=\"1\" class=\"dataframe\">\n",
       "  <thead>\n",
       "    <tr>\n",
       "      <th></th>\n",
       "      <th colspan=\"2\" halign=\"left\">n</th>\n",
       "    </tr>\n",
       "    <tr>\n",
       "      <th>high_roe</th>\n",
       "      <th>False</th>\n",
       "      <th>True</th>\n",
       "    </tr>\n",
       "    <tr>\n",
       "      <th>onet3digit</th>\n",
       "      <th></th>\n",
       "      <th></th>\n",
       "    </tr>\n",
       "  </thead>\n",
       "  <tbody>\n",
       "    <tr>\n",
       "      <th>111 : Top Executives</th>\n",
       "      <td>408</td>\n",
       "      <td>815</td>\n",
       "    </tr>\n",
       "    <tr>\n",
       "      <th>112 : Advertising, Public Relations, and Sales Managers</th>\n",
       "      <td>928</td>\n",
       "      <td>1744</td>\n",
       "    </tr>\n",
       "    <tr>\n",
       "      <th>113 : Operations Managers</th>\n",
       "      <td>925</td>\n",
       "      <td>1665</td>\n",
       "    </tr>\n",
       "    <tr>\n",
       "      <th>119 : Other Management Occupations</th>\n",
       "      <td>1342</td>\n",
       "      <td>2173</td>\n",
       "    </tr>\n",
       "  </tbody>\n",
       "</table>\n",
       "</div>"
      ],
      "text/plain": [
       "                                                       n      \n",
       "high_roe                                           False True \n",
       "onet3digit                                                    \n",
       "111 : Top Executives                                 408   815\n",
       "112 : Advertising, Public Relations, and Sales ...   928  1744\n",
       "113 : Operations Managers                            925  1665\n",
       "119 : Other Management Occupations                  1342  2173"
      ]
     },
     "execution_count": 8,
     "metadata": {},
     "output_type": "execute_result"
    }
   ],
   "source": [
    "df_occ = df[['onet3digit','n','high_roe']]\n",
    "df_occ = df_occ.groupby(['onet3digit','high_roe']).count()\n",
    "df_occ.unstack()"
   ]
  },
  {
   "cell_type": "markdown",
   "metadata": {},
   "source": [
    "* More successful companies (*\"high_roe\" == True*) post more top executives proportionally. "
   ]
  },
  {
   "cell_type": "markdown",
   "metadata": {},
   "source": [
    "### Education Requirement\n",
    "\n",
    "Next, we look at education requirement:"
   ]
  },
  {
   "cell_type": "code",
   "execution_count": 9,
   "metadata": {},
   "outputs": [
    {
     "data": {
      "text/plain": [
       "high_school    0.0903\n",
       "associate      0.0595\n",
       "bachelor       0.5795\n",
       "master         0.1751\n",
       "phd            0.0205\n",
       "dtype: float64"
      ]
     },
     "execution_count": 9,
     "metadata": {},
     "output_type": "execute_result"
    }
   ],
   "source": [
    "df_education = df[['onet3digit','high_roe'] + all_edu]\n",
    "df_education[all_edu].mean()"
   ]
  },
  {
   "cell_type": "markdown",
   "metadata": {},
   "source": [
    "* Most ads (58%) specifically require Bachelor's degree, followed by Master's degree (17.51%). "
   ]
  },
  {
   "cell_type": "code",
   "execution_count": 10,
   "metadata": {
    "collapsed": true,
    "scrolled": false
   },
   "outputs": [],
   "source": [
    "df_education = df_education.groupby(['onet3digit','high_roe']).mean()\n",
    "df_education = df_education.reset_index()\n",
    "df_education_low = df_education[df_education['high_roe']==False]\n",
    "df_education_high = df_education[df_education['high_roe']==True]\n",
    "df_education_roe = df_education_high.append(df_education_low, ignore_index=True)"
   ]
  },
  {
   "cell_type": "code",
   "execution_count": 11,
   "metadata": {},
   "outputs": [
    {
     "data": {
      "text/plain": [
       "<matplotlib.text.Text at 0x2ac89ed24a8>"
      ]
     },
     "execution_count": 11,
     "metadata": {},
     "output_type": "execute_result"
    },
    {
     "data": {
      "image/png": "[encoded data removed]",
      "text/plain": [
       "<matplotlib.figure.Figure at 0x2ac89bafd68>"
      ]
     },
     "metadata": {},
     "output_type": "display_data"
    }
   ],
   "source": [
    "sns.set(style=\"whitegrid\")\n",
    "\n",
    "# Draw a nested barplot\n",
    "# example: https://seaborn.pydata.org/examples/factorplot_bars.html\n",
    "\n",
    "g = sns.factorplot(x='onet3digit_numer', y=\"high_school\", hue=\"high_roe\", data=df,\n",
    "                   size=6, kind=\"bar\", palette=\"muted\")\n",
    "g.despine(left=True)\n",
    "g.set_ylabels(\"proportion\")\n",
    "plt.title('Proportion of ads that require high school degree')"
   ]
  },
  {
   "cell_type": "markdown",
   "metadata": {},
   "source": [
    "* Successful companies are less likely to specify require high school degree as requirement."
   ]
  },
  {
   "cell_type": "code",
   "execution_count": 12,
   "metadata": {},
   "outputs": [
    {
     "data": {
      "text/plain": [
       "<matplotlib.text.Text at 0x2ac89fa2e10>"
      ]
     },
     "execution_count": 12,
     "metadata": {},
     "output_type": "execute_result"
    },
    {
     "data": {
      "image/png": "[encoded data removed]",
      "text/plain": [
       "<matplotlib.figure.Figure at 0x2ac89e90cc0>"
      ]
     },
     "metadata": {},
     "output_type": "display_data"
    }
   ],
   "source": [
    "# Draw a nested barplot\n",
    "g = sns.factorplot(x='onet3digit_numer', y=\"associate\", hue=\"high_roe\", data=df,\n",
    "                   size=6, kind=\"bar\", palette=\"muted\")\n",
    "g.despine(left=True)\n",
    "g.set_ylabels(\"proportion\")\n",
    "plt.title('Proportion of ads that require associate degree')"
   ]
  },
  {
   "cell_type": "markdown",
   "metadata": {},
   "source": [
    "* Successful companies are less likely to specify require associate degree as requirement."
   ]
  },
  {
   "cell_type": "code",
   "execution_count": 13,
   "metadata": {},
   "outputs": [
    {
     "data": {
      "text/plain": [
       "<matplotlib.text.Text at 0x2ac8a0505c0>"
      ]
     },
     "execution_count": 13,
     "metadata": {},
     "output_type": "execute_result"
    },
    {
     "data": {
      "image/png": "[encoded data removed]",
      "text/plain": [
       "<matplotlib.figure.Figure at 0x2ac89f7d240>"
      ]
     },
     "metadata": {},
     "output_type": "display_data"
    }
   ],
   "source": [
    "# Draw a nested barplot\n",
    "g = sns.factorplot(x='onet3digit_numer', y=\"bachelor\", hue=\"high_roe\", data=df,\n",
    "                   size=6, kind=\"bar\", palette=\"muted\")\n",
    "g.despine(left=True)\n",
    "g.set_ylabels(\"proportion\")\n",
    "plt.title(\"Proportion of ads that require bachelor's degree\")"
   ]
  },
  {
   "cell_type": "markdown",
   "metadata": {},
   "source": [
    "* Successful companies are more likely to specify require bachelor's degree as requirement for 111 : Top Executives and 112 : Advertising, Public Relations."
   ]
  },
  {
   "cell_type": "code",
   "execution_count": 14,
   "metadata": {},
   "outputs": [
    {
     "data": {
      "text/plain": [
       "<matplotlib.text.Text at 0x2ac8a189da0>"
      ]
     },
     "execution_count": 14,
     "metadata": {},
     "output_type": "execute_result"
    },
    {
     "data": {
      "image/png": "[encoded data removed]",
      "text/plain": [
       "<matplotlib.figure.Figure at 0x2ac89b74a20>"
      ]
     },
     "metadata": {},
     "output_type": "display_data"
    }
   ],
   "source": [
    "# Draw a nested barplot\n",
    "g = sns.factorplot(x='onet3digit_numer', y=\"master\", hue=\"high_roe\", data=df,\n",
    "                   size=6, kind=\"bar\", palette=\"muted\")\n",
    "g.despine(left=True)\n",
    "g.set_ylabels(\"proportion\")\n",
    "plt.title(\"Proportion of ads that require master's degree\")"
   ]
  },
  {
   "cell_type": "markdown",
   "metadata": {},
   "source": [
    "* Successful companies are more likely to specify require master's degree."
   ]
  },
  {
   "cell_type": "markdown",
   "metadata": {},
   "source": [
    "### Summary\n",
    "\n",
    "1. From the data, we see average ROE of 6.4%. There is, however, a huge spread. Median ROE is 9.18% and we have upto -96.5% and 89% ROE.\n",
    "2. Successful companies post more ads.\n",
    "3. Successful companies post more top executives proportionally.\n",
    "4. Most ads (58%) specifically require Bachelor's degree, followed by Master's degree (17.51%). \n",
    "5. Successful companies often specify higher education requirement. \n",
    "\n",
    "These results are not surprising. Expanding companies are most likely the ones with higher profitability. These companies, therefore, have more jobs to fill, demand more top executives, and are able to extract better employees by requesting for higher education requirement.  "
   ]
  }
 ],
 "metadata": {
  "kernelspec": {
   "display_name": "Python 3",
   "language": "python",
   "name": "python3"
  },
  "language_info": {
   "codemirror_mode": {
    "name": "ipython",
    "version": 3
   },
   "file_extension": ".py",
   "mimetype": "text/x-python",
   "name": "python",
   "nbconvert_exporter": "python",
   "pygments_lexer": "ipython3",
   "version": "3.6.2"
  }
 },
 "nbformat": 4,
 "nbformat_minor": 2
}
