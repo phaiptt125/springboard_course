{
 "cells": [
  {
   "cell_type": "markdown",
   "metadata": {},
   "source": [
    "## Capstone Project: Job Posting and Profitability \n",
    "\n",
    "**Springboard Data Science Intensive Course**\n",
    "\n",
    "October 23, 2017\n",
    "\n",
    "Phai Phongthiengtham\n",
    "***"
   ]
  },
  {
   "cell_type": "markdown",
   "metadata": {},
   "source": [
    "### 1. Introduction\n",
    "\n",
    "What drives a company’s success? Undeniably, one important factor is the people, and the starting point would be the vacancy posts. Using the merged dataset from CareerBuilder and Compustat, this project aims to understand how vacancy posting can help with a company's success. Section 2 demonstrates how to process raw posting data, and how to apply fuzzy string matching algorithm to match job posting company names and Compustat legal company names. Section 3 provides some basic exploration and visualization of the data. Section 4 applies several machine learning algorithms to predict a company’s profitability using information on education level requirements, locations and industry sectors. The model provides a product recommending education level requirement when posting a job. Section 5 incorporates job titles to the algorithm. The results provide several interesting insights. Section 6 concludes and provides some possible future work and extensions.      \n",
    "\n",
    "***"
   ]
  },
  {
   "cell_type": "markdown",
   "metadata": {},
   "source": [
    "### 2. Data Wrangling\n",
    "\n",
    "Main datasets in this project are:\n",
    "1. Job postings from CareerBuilder, provided by Economic Modeling Specialists International (EMSI), in 2016. This ipython notebook [here](https://github.com/phaiptt125/online_job_posting/blob/master/data_cleaning/initial_cleaning.ipynb) explains in detail how to clean the job postings data. \n",
    "2. Financial data on publicly traded companies: Compustat (North America) database. This ipython notebook [here](https://github.com/phaiptt125/online_job_posting/blob/master/data_cleaning/merge_compustat.ipynb) explains in detail how to  merge job postings data to Compustat.\n",
    "\n",
    "There are around 1.4 million ads in total, which are too large for a personal computer. As a result, a sampling of 10000 ads is done by using the command *df = df_full.sample(n=10000)*. In addition, this project only considers manager positions.  \n",
    "\n",
    "***"
   ]
  },
  {
   "cell_type": "markdown",
   "metadata": {},
   "source": [
    "#### 2.1 Measuring Profitability\n",
    "\n",
    "This project uses \"Return on Equity - ROE\": the amount of net income returned as a percantage of shareholders equity (excluding preferred stock). Return on equity measures a corporation's profitability by revealing how much profit a company generates with the money shareholders have invested. \n",
    "\n",
    "$$ \\text{Return on Equity} = \\frac{\\text{Net Income}}{\\text{Shareholder's Equity}}$$\n",
    "\n",
    "***"
   ]
  },
  {
   "cell_type": "markdown",
   "metadata": {},
   "source": [
    "#### 2.2 Variable Description\n",
    "\n",
    "The cleaned data is shown below:"
   ]
  },
  {
   "cell_type": "code",
   "execution_count": 1,
   "metadata": {},
   "outputs": [
    {
     "data": {
      "text/html": [
       "<div>\n",
       "<style>\n",
       "    .dataframe thead tr:only-child th {\n",
       "        text-align: right;\n",
       "    }\n",
       "\n",
       "    .dataframe thead th {\n",
       "        text-align: left;\n",
       "    }\n",
       "\n",
       "    .dataframe tbody tr th {\n",
       "        vertical-align: top;\n",
       "    }\n",
       "</style>\n",
       "<table border=\"1\" class=\"dataframe\">\n",
       "  <thead>\n",
       "    <tr style=\"text-align: right;\">\n",
       "      <th></th>\n",
       "      <th>conml</th>\n",
       "      <th>roe</th>\n",
       "      <th>onet</th>\n",
       "      <th>naics</th>\n",
       "      <th>state</th>\n",
       "      <th>original_jobtitle</th>\n",
       "      <th>high_school</th>\n",
       "      <th>associate</th>\n",
       "      <th>bachelor</th>\n",
       "      <th>master</th>\n",
       "      <th>phd</th>\n",
       "    </tr>\n",
       "  </thead>\n",
       "  <tbody>\n",
       "    <tr>\n",
       "      <th>0</th>\n",
       "      <td>Del Taco Restaurants Inc</td>\n",
       "      <td>0.055423</td>\n",
       "      <td>11-9051.00</td>\n",
       "      <td>722513</td>\n",
       "      <td>CA</td>\n",
       "      <td>Food Service Director</td>\n",
       "      <td>1</td>\n",
       "      <td>0</td>\n",
       "      <td>0</td>\n",
       "      <td>0</td>\n",
       "      <td>0</td>\n",
       "    </tr>\n",
       "    <tr>\n",
       "      <th>1</th>\n",
       "      <td>Medtronic PLC</td>\n",
       "      <td>0.080089</td>\n",
       "      <td>11-3021.00</td>\n",
       "      <td>334510</td>\n",
       "      <td>MN</td>\n",
       "      <td>I&amp;O Business Development &amp; Technology Sr IT Pr...</td>\n",
       "      <td>0</td>\n",
       "      <td>0</td>\n",
       "      <td>0</td>\n",
       "      <td>0</td>\n",
       "      <td>0</td>\n",
       "    </tr>\n",
       "    <tr>\n",
       "      <th>2</th>\n",
       "      <td>Macy's Inc</td>\n",
       "      <td>0.143188</td>\n",
       "      <td>11-3121.00</td>\n",
       "      <td>452111</td>\n",
       "      <td>AL</td>\n",
       "      <td>Macy's Brookwood Village, Birmingham, AL: Huma...</td>\n",
       "      <td>0</td>\n",
       "      <td>0</td>\n",
       "      <td>0</td>\n",
       "      <td>0</td>\n",
       "      <td>0</td>\n",
       "    </tr>\n",
       "    <tr>\n",
       "      <th>3</th>\n",
       "      <td>TE Connectivity Ltd</td>\n",
       "      <td>0.236771</td>\n",
       "      <td>11-9141.00</td>\n",
       "      <td>334417</td>\n",
       "      <td>NJ</td>\n",
       "      <td>Property Manager</td>\n",
       "      <td>0</td>\n",
       "      <td>0</td>\n",
       "      <td>1</td>\n",
       "      <td>0</td>\n",
       "      <td>0</td>\n",
       "    </tr>\n",
       "    <tr>\n",
       "      <th>4</th>\n",
       "      <td>CA Inc</td>\n",
       "      <td>0.136228</td>\n",
       "      <td>11-2021.00</td>\n",
       "      <td>511210</td>\n",
       "      <td>CA</td>\n",
       "      <td>VP, Regional Field Marketing</td>\n",
       "      <td>0</td>\n",
       "      <td>0</td>\n",
       "      <td>1</td>\n",
       "      <td>1</td>\n",
       "      <td>0</td>\n",
       "    </tr>\n",
       "  </tbody>\n",
       "</table>\n",
       "</div>"
      ],
      "text/plain": [
       "                      conml       roe        onet   naics state  \\\n",
       "0  Del Taco Restaurants Inc  0.055423  11-9051.00  722513    CA   \n",
       "1             Medtronic PLC  0.080089  11-3021.00  334510    MN   \n",
       "2                Macy's Inc  0.143188  11-3121.00  452111    AL   \n",
       "3       TE Connectivity Ltd  0.236771  11-9141.00  334417    NJ   \n",
       "4                    CA Inc  0.136228  11-2021.00  511210    CA   \n",
       "\n",
       "                                   original_jobtitle  high_school  associate  \\\n",
       "0                              Food Service Director            1          0   \n",
       "1  I&O Business Development & Technology Sr IT Pr...            0          0   \n",
       "2  Macy's Brookwood Village, Birmingham, AL: Huma...            0          0   \n",
       "3                                   Property Manager            0          0   \n",
       "4                       VP, Regional Field Marketing            0          0   \n",
       "\n",
       "   bachelor  master  phd  \n",
       "0         0       0    0  \n",
       "1         0       0    0  \n",
       "2         0       0    0  \n",
       "3         1       0    0  \n",
       "4         1       1    0  "
      ]
     },
     "execution_count": 1,
     "metadata": {},
     "output_type": "execute_result"
    }
   ],
   "source": [
    "import pandas as pd\n",
    "\n",
    "df = pd.read_csv('data_postings.txt',sep='\\t',header=0)\n",
    "select_var = ['conml','roe','onet','naics','state','original_jobtitle', 'high_school','associate','bachelor','master','phd']\n",
    "df[select_var].head()"
   ]
  },
  {
   "cell_type": "markdown",
   "metadata": {},
   "source": [
    "* *\"conml\"* : The official company name as reported on its EDGAR SEC filings.\n",
    "* *\"roe\"* : Return on equity (percent of net income per shareholder's equity).\n",
    "* *\"onet\"* : Occupation code according to U.S. Department of Labor, see [here](https://www.onetonline.org/) for more information.\n",
    "* *\"naics\"* : North American Industry Classification System, see [here](https://www.census.gov/eos/www/naics/) for more information.\n",
    "* *\"state\"* : State in which the company is located (50 states + DC).\n",
    "* *\"original_jobtitle\"* : Original job title as appeared in the careerbuilder.\n",
    "* *\"high_school\"* : Whether a post specifically requires a high school degree (=1 if yes). \n",
    "* *\"associate\"* : Whether a post specifically requires an associate degree (=1 if yes). \n",
    "* *\"bachelor\"* : Whether a post specifically requires a bachelor degree (=1 if yes). \n",
    "* *\"master\"* : Whether a post specifically requires a master degree (=1 if yes). \n",
    "* *\"phd\"* : Whether a post specifically requires a phd degree (=1 if yes). \n",
    "\n",
    "***"
   ]
  },
  {
   "cell_type": "markdown",
   "metadata": {},
   "source": [
    "### 3. Data Story\n",
    "\n",
    "This section demonstrates basic basic exploration (module 4). This ipython notebook demonstates [here](https://github.com/phaiptt125/springboard_course/blob/master/Capstone/data_story.ipynb) demonstrate this section in detail.\n",
    "\n",
    "1. From the data, we see average ROE of 6.4%. There is, however, a huge spread. Median ROE is 9.18% and we have upto -96.5% and 89% ROE.\n",
    "2. Successful companies post more ads.\n",
    "3. Successful companies post more top executives proportionally.\n",
    "4. Most ads (58%) specifically require Bachelor's degree, followed by Master's degree (17.51%). \n",
    "5. Successful companies often specify higher education requirement. \n",
    "\n",
    "***"
   ]
  },
  {
   "cell_type": "markdown",
   "metadata": {},
   "source": [
    "### 4. Recommending Education Requirement when Posting Vacancies"
   ]
  },
  {
   "cell_type": "markdown",
   "metadata": {},
   "source": [
    "This section applies several machine learning algorithms to predict a company’s profitability using information on education level requirements, locations and industry sectors. The model provides a product recommending education level requirement when posting a job. This ipython notebook [here](https://github.com/phaiptt125/springboard_course/blob/master/Capstone/analyze_edu.ipynb) explains the procedure in detail.\n",
    "\n",
    "***"
   ]
  },
  {
   "cell_type": "markdown",
   "metadata": {},
   "source": [
    "### 5. Job Titles and Profitability\n",
    "\n",
    "This section incorporates job titles to the algorithm and provides several interesting insights. This ipython notebook [here](https://github.com/phaiptt125/springboard_course/blob/master/Capstone/analyze_title.ipynb) explains the procedure in detail.\n",
    "\n",
    "First, job titles should not be too long. The coefficients in the polymonial terms are: $ROE = a*(word) + b*(word)^2$, then the optimal number of words is around $-\\frac{a}{2b} = \\frac{0.004857}{2*0.000801} = 3.03$. On average, the length of job titles should not exceed 3-4 words. \n",
    "\n",
    "Second, companies that put information of their location into job titles tend to perform better, as the coefficient of the ridge regression is positive (~0.018). The causal relationship, however, is not clear. Most likely, we have a confounding variable as expanding companies are the ones that performing well. As they are expanding to other area, they tend to put information on the new location into job tities. \n",
    "\n",
    "***"
   ]
  },
  {
   "cell_type": "markdown",
   "metadata": {},
   "source": [
    "### 6. Future Work"
   ]
  },
  {
   "cell_type": "markdown",
   "metadata": {
    "collapsed": true
   },
   "source": [
    "This project attempts shed some light on how vacancy posting relate to a company's profitability. There is, however, much to be done:\n",
    "* This project only uses a subset of full data. Future work could incorporate all ads (more than 100 million) across time and occupations. \n",
    "* An open-sourced *Word2Vec* model on job descriptions is useful to HR departments.\n",
    "* Further work could explore more to this relationship between profitability and whether a company put location into its job title."
   ]
  }
 ],
 "metadata": {
  "kernelspec": {
   "display_name": "Python 3",
   "language": "python",
   "name": "python3"
  },
  "language_info": {
   "codemirror_mode": {
    "name": "ipython",
    "version": 3
   },
   "file_extension": ".py",
   "mimetype": "text/x-python",
   "name": "python",
   "nbconvert_exporter": "python",
   "pygments_lexer": "ipython3",
   "version": "3.6.2"
  }
 },
 "nbformat": 4,
 "nbformat_minor": 2
}
