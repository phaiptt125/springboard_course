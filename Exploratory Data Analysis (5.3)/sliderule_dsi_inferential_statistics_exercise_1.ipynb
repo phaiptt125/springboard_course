{
 "cells": [
  {
   "cell_type": "markdown",
   "metadata": {},
   "source": [
    "# What is the True Normal Human Body Temperature? \n",
    "\n",
    "#### Background\n",
    "\n",
    "The mean normal body temperature was held to be 37$^{\\circ}$C or 98.6$^{\\circ}$F for more than 120 years since it was first conceptualized and reported by Carl Wunderlich in a famous 1868 book. But, is this value statistically correct?"
   ]
  },
  {
   "cell_type": "markdown",
   "metadata": {},
   "source": [
    "The mean normal body temperature was held to be 37$^{\\circ}$C or 98.6$^{\\circ}$F for more than 120 years since it was first conceptualized and reported by Carl Wunderlich in a famous 1868 book. But, is this value statistically correct"
   ]
  },
  {
   "cell_type": "markdown",
   "metadata": {},
   "source": [
    "<div class=\"span5 alert alert-info\">\n",
    "<h3>Exercises</h3>\n",
    "\n",
    "<p>In this exercise, you will analyze a dataset of human body temperatures and employ the concepts of hypothesis testing, confidence intervals, and statistical significance.</p>\n",
    "\n",
    "<p>Answer the following questions <b>in this notebook below and submit to your Github account</b>.</p> \n",
    "\n",
    "<ol>\n",
    "<li>  Is the distribution of body temperatures normal? \n",
    "    <ul>\n",
    "    <li> Although this is not a requirement for CLT to hold (read CLT carefully), it gives us some peace of mind that the population may also be normally distributed if we assume that this sample is representative of the population.\n",
    "    </ul>\n",
    "<li>  Is the sample size large? Are the observations independent?\n",
    "    <ul>\n",
    "    <li> Remember that this is a condition for the CLT, and hence the statistical tests we are using, to apply.\n",
    "    </ul>\n",
    "<li>  Is the true population mean really 98.6 degrees F?\n",
    "    <ul>\n",
    "    <li> Would you use a one-sample or two-sample test? Why?\n",
    "    <li> In this situation, is it appropriate to use the $t$ or $z$ statistic? \n",
    "    <li> Now try using the other test. How is the result be different? Why?\n",
    "    </ul>\n",
    "<li>  At what temperature should we consider someone's temperature to be \"abnormal\"?\n",
    "    <ul>\n",
    "    <li> Start by computing the margin of error and confidence interval.\n",
    "    </ul>\n",
    "<li>  Is there a significant difference between males and females in normal temperature?\n",
    "    <ul>\n",
    "    <li> What test did you use and why?\n",
    "    <li> Write a story with your conclusion in the context of the original problem.\n",
    "    </ul>\n",
    "</ol>\n",
    "\n",
    "You can include written notes in notebook cells using Markdown: \n",
    "   - In the control panel at the top, choose Cell > Cell Type > Markdown\n",
    "   - Markdown syntax: http://nestacms.com/docs/creating-content/markdown-cheat-sheet\n",
    "\n",
    "#### Resources\n",
    "\n",
    "+ Information and data sources: http://www.amstat.org/publications/jse/datasets/normtemp.txt, http://www.amstat.org/publications/jse/jse_data_archive.htm\n",
    "+ Markdown syntax: http://nestacms.com/docs/creating-content/markdown-cheat-sheet\n",
    "\n",
    "****\n",
    "</div>"
   ]
  },
  {
   "cell_type": "code",
   "execution_count": 1,
   "metadata": {
    "collapsed": false
   },
   "outputs": [
    {
     "data": {
      "text/html": [
       "<div>\n",
       "<table border=\"1\" class=\"dataframe\">\n",
       "  <thead>\n",
       "    <tr style=\"text-align: right;\">\n",
       "      <th></th>\n",
       "      <th>temperature</th>\n",
       "      <th>gender</th>\n",
       "      <th>heart_rate</th>\n",
       "    </tr>\n",
       "  </thead>\n",
       "  <tbody>\n",
       "    <tr>\n",
       "      <th>0</th>\n",
       "      <td>99.3</td>\n",
       "      <td>F</td>\n",
       "      <td>68.0</td>\n",
       "    </tr>\n",
       "    <tr>\n",
       "      <th>1</th>\n",
       "      <td>98.4</td>\n",
       "      <td>F</td>\n",
       "      <td>81.0</td>\n",
       "    </tr>\n",
       "    <tr>\n",
       "      <th>2</th>\n",
       "      <td>97.8</td>\n",
       "      <td>M</td>\n",
       "      <td>73.0</td>\n",
       "    </tr>\n",
       "    <tr>\n",
       "      <th>3</th>\n",
       "      <td>99.2</td>\n",
       "      <td>F</td>\n",
       "      <td>66.0</td>\n",
       "    </tr>\n",
       "    <tr>\n",
       "      <th>4</th>\n",
       "      <td>98.0</td>\n",
       "      <td>F</td>\n",
       "      <td>73.0</td>\n",
       "    </tr>\n",
       "  </tbody>\n",
       "</table>\n",
       "</div>"
      ],
      "text/plain": [
       "   temperature gender  heart_rate\n",
       "0         99.3      F        68.0\n",
       "1         98.4      F        81.0\n",
       "2         97.8      M        73.0\n",
       "3         99.2      F        66.0\n",
       "4         98.0      F        73.0"
      ]
     },
     "execution_count": 1,
     "metadata": {},
     "output_type": "execute_result"
    }
   ],
   "source": [
    "import pandas as pd\n",
    "import numpy as np\n",
    "import scipy\n",
    "from scipy import stats\n",
    "df = pd.read_csv('data/human_body_temperature.csv') #import as dataframe\n",
    "df.head()"
   ]
  },
  {
   "cell_type": "markdown",
   "metadata": {
    "collapsed": false
   },
   "source": [
    "#### [QUESTION 1] Is the distribution of body temperatures normal?\n",
    "* Test the null hypothesis that a sample comes from a normal distribution.\n"
   ]
  },
  {
   "cell_type": "code",
   "execution_count": 2,
   "metadata": {
    "collapsed": false
   },
   "outputs": [
    {
     "data": {
      "text/plain": [
       "NormaltestResult(statistic=2.7038014333192031, pvalue=0.2587479863488254)"
      ]
     },
     "execution_count": 2,
     "metadata": {},
     "output_type": "execute_result"
    }
   ],
   "source": [
    "temp_all = np.array(df['temperature']) # get temperature data\n",
    "scipy.stats.mstats.normaltest(temp_all) # normality test"
   ]
  },
  {
   "cell_type": "markdown",
   "metadata": {},
   "source": [
    "* Null hypothesis is that a sample comes from a normal distribution. Since the pvalue is high (~0.259), we CANNOT REJECT the null hypothesis.\n",
    "* Body temperatures seem to be normally distributed.\n",
    "\n",
    "#### [QUESTION 2] Is the sample size large? Are the observations independent?\n",
    "* We have sample size of 130, which is large enough for t-distribution to be very close to normal.\n",
    "* In theory, there is no way we can be certain that observations are independent. However, there are ways to check if the observations are correlated in a certain way. For example, if we also have race of age, we can check if temperature and heart rate different across those variables.   \n",
    "\n",
    "#### [QUESTION 3] Is the true population mean really 98.6 degrees F?"
   ]
  },
  {
   "cell_type": "code",
   "execution_count": 3,
   "metadata": {
    "collapsed": false
   },
   "outputs": [
    {
     "data": {
      "text/plain": [
       "98.24923076923078"
      ]
     },
     "execution_count": 3,
     "metadata": {},
     "output_type": "execute_result"
    }
   ],
   "source": [
    "df['temperature'].mean()"
   ]
  },
  {
   "cell_type": "markdown",
   "metadata": {
    "collapsed": false
   },
   "source": [
    "* The average is 98.25, which is less than 98.6.\n",
    "* (3.1) We want to use one-sample t-test.\n",
    "* (3.2) Ideally, we should use t-test because we do not know population standard deviation.\n",
    "* Nevertheless, with sample size of 130, z-test would also give the almost identical result as t-test."
   ]
  },
  {
   "cell_type": "code",
   "execution_count": 4,
   "metadata": {
    "collapsed": false
   },
   "outputs": [
    {
     "data": {
      "text/plain": [
       "Ttest_1sampResult(statistic=-5.4548232923645195, pvalue=2.4106320415561276e-07)"
      ]
     },
     "execution_count": 4,
     "metadata": {},
     "output_type": "execute_result"
    }
   ],
   "source": [
    "# Perform t-test with null hypothesis that mean = 98.6\n",
    "scipy.stats.ttest_1samp(temp_all, 98.6)"
   ]
  },
  {
   "cell_type": "markdown",
   "metadata": {},
   "source": [
    "* Since pvalue from t-test is extremely low, we conclude that sample mean is statistically different from 98.6\n",
    "\n",
    "#### [QUESTION 4] At what temperature should we consider someone's temperature to be \"abnormal\"?\n",
    "* First, we compute margin of error and confidence interval. "
   ]
  },
  {
   "cell_type": "code",
   "execution_count": 5,
   "metadata": {
    "collapsed": false
   },
   "outputs": [
    {
     "name": "stdout",
     "output_type": "stream",
     "text": [
      "estimated std of sampling mean = 0.0641\n",
      "margin of error (95% CI) = 0.1267\n",
      "confidence interval (95% CI) = [98.1225, 98.3760]\n"
     ]
    }
   ],
   "source": [
    "sample_size = len(temp_all)\n",
    "t_critical = stats.t.ppf( q = 0.975, df = sample_size-1 )\n",
    "\n",
    "sigma = temp_all.std()/np.sqrt(sample_size) # apply CLT\n",
    "print(\"estimated std of sampling mean = \" + \"{0:.4f}\".format(sigma))\n",
    "\n",
    "margin_of_error = t_critical * sigma\n",
    "print(\"margin of error (95% CI) = \" + \"{0:.4f}\".format(margin_of_error))\n",
    "\n",
    "CI = (temp_all.mean() - margin_of_error, temp_all.mean() + margin_of_error)\n",
    "print(\"confidence interval (95% CI) = [\" + \"{0:.4f}\".format(CI[0]) + ', ' + \"{0:.4f}\".format(CI[1]) + ']')"
   ]
  },
  {
   "cell_type": "markdown",
   "metadata": {
    "collapsed": false
   },
   "source": [
    "* We are 95% confident that someone temperature should be in the range of [98.14,98.35]\n",
    "\n",
    "#### [QUESTION 5] Is there a significant difference between males and females in normal temperature?\n",
    "* First, we check mean of male and female "
   ]
  },
  {
   "cell_type": "code",
   "execution_count": 6,
   "metadata": {
    "collapsed": false
   },
   "outputs": [
    {
     "data": {
      "text/plain": [
       "gender       \n",
       "F       count     65.000000\n",
       "        mean      98.393846\n",
       "        std        0.743488\n",
       "        min       96.400000\n",
       "        25%       98.000000\n",
       "        50%       98.400000\n",
       "        75%       98.800000\n",
       "        max      100.800000\n",
       "M       count     65.000000\n",
       "        mean      98.104615\n",
       "        std        0.698756\n",
       "        min       96.300000\n",
       "        25%       97.600000\n",
       "        50%       98.100000\n",
       "        75%       98.600000\n",
       "        max       99.500000\n",
       "Name: temperature, dtype: float64"
      ]
     },
     "execution_count": 6,
     "metadata": {},
     "output_type": "execute_result"
    }
   ],
   "source": [
    "by_gender = df.groupby('gender')\n",
    "by_gender['temperature'].describe()"
   ]
  },
  {
   "cell_type": "markdown",
   "metadata": {
    "collapsed": false
   },
   "source": [
    "* Sample mean for female is slightly higher.\n",
    "* Next, we perform two-sample t-test (95% confidence interval = pvalue of 0.025)."
   ]
  },
  {
   "cell_type": "code",
   "execution_count": 7,
   "metadata": {
    "collapsed": false
   },
   "outputs": [
    {
     "data": {
      "text/plain": [
       "Ttest_indResult(statistic=-2.2854345381656103, pvalue=0.023931883122395609)"
      ]
     },
     "execution_count": 7,
     "metadata": {},
     "output_type": "execute_result"
    }
   ],
   "source": [
    "temp_male = np.array(df[df['gender']=='M']['temperature']) \n",
    "temp_female = np.array(df[df['gender']=='F']['temperature'])\n",
    "stats.ttest_ind(temp_male,temp_female)"
   ]
  },
  {
   "cell_type": "markdown",
   "metadata": {
    "collapsed": true
   },
   "source": [
    "* pvalue is 0.0239 which is lower than 0.025.\n",
    "* This is an evidence (although quite weak) that female has higher temperature.\n",
    "\n",
    "* Next, we check if female sample has mean temperature of 98.6"
   ]
  },
  {
   "cell_type": "code",
   "execution_count": 8,
   "metadata": {
    "collapsed": false
   },
   "outputs": [
    {
     "data": {
      "text/plain": [
       "Ttest_1sampResult(statistic=-2.2354980796784965, pvalue=0.028880450789682037)"
      ]
     },
     "execution_count": 8,
     "metadata": {},
     "output_type": "execute_result"
    }
   ],
   "source": [
    "scipy.stats.ttest_1samp(temp_female, 98.6)"
   ]
  },
  {
   "cell_type": "markdown",
   "metadata": {},
   "source": [
    "* pvalue is 0.0289 which is higher than 0.025. So female temperature is close to 98.6."
   ]
  },
  {
   "cell_type": "markdown",
   "metadata": {},
   "source": [
    "Conclusion: \n",
    "1. Our sample indicates that average human temperature is 98.25, which is statistically different from what Carl Wunderlich had previously reported at 98.6.\n",
    "* However, we cannot reject that female temperature is statistically different from 98.6\n",
    "2. On average, female has higher temerature than male (98.39 and 98.10 respectively). "
   ]
  }
 ],
 "metadata": {
  "anaconda-cloud": {},
  "kernelspec": {
   "display_name": "Python [Root]",
   "language": "python",
   "name": "Python [Root]"
  },
  "language_info": {
   "codemirror_mode": {
    "name": "ipython",
    "version": 3
   },
   "file_extension": ".py",
   "mimetype": "text/x-python",
   "name": "python",
   "nbconvert_exporter": "python",
   "pygments_lexer": "ipython3",
   "version": "3.5.2"
  }
 },
 "nbformat": 4,
 "nbformat_minor": 0
}
