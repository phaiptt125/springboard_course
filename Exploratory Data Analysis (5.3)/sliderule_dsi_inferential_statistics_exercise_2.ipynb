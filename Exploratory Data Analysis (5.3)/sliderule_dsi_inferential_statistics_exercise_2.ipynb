{
 "cells": [
  {
   "cell_type": "markdown",
   "metadata": {},
   "source": [
    "# Examining Racial Discrimination in the US Job Market\n",
    "\n",
    "### Background\n",
    "Racial discrimination continues to be pervasive in cultures throughout the world. Researchers examined the level of racial discrimination in the United States labor market by randomly assigning identical résumés to black-sounding or white-sounding names and observing the impact on requests for interviews from employers.\n",
    "\n",
    "### Data\n",
    "In the dataset provided, each row represents a resume. The 'race' column has two values, 'b' and 'w', indicating black-sounding and white-sounding. The column 'call' has two values, 1 and 0, indicating whether the resume received a call from employers or not.\n",
    "\n",
    "Note that the 'b' and 'w' values in race are assigned randomly to the resumes when presented to the employer."
   ]
  },
  {
   "cell_type": "markdown",
   "metadata": {},
   "source": [
    "<div class=\"span5 alert alert-info\">\n",
    "### Exercises\n",
    "You will perform a statistical analysis to establish whether race has a significant impact on the rate of callbacks for resumes.\n",
    "\n",
    "Answer the following questions **in this notebook below and submit to your Github account**. \n",
    "\n",
    "   1. What test is appropriate for this problem? Does CLT apply?\n",
    "   2. What are the null and alternate hypotheses?\n",
    "   3. Compute margin of error, confidence interval, and p-value.\n",
    "   4. Write a story describing the statistical significance in the context or the original problem.\n",
    "   5. Does your analysis mean that race/name is the most important factor in callback success? Why or why not? If not, how would you amend your analysis?\n",
    "\n",
    "You can include written notes in notebook cells using Markdown: \n",
    "   - In the control panel at the top, choose Cell > Cell Type > Markdown\n",
    "   - Markdown syntax: http://nestacms.com/docs/creating-content/markdown-cheat-sheet\n",
    "\n",
    "\n",
    "#### Resources\n",
    "+ Experiment information and data source: http://www.povertyactionlab.org/evaluation/discrimination-job-market-united-states\n",
    "+ Scipy statistical methods: http://docs.scipy.org/doc/scipy/reference/stats.html \n",
    "+ Markdown syntax: http://nestacms.com/docs/creating-content/markdown-cheat-sheet\n",
    "</div>\n",
    "****"
   ]
  },
  {
   "cell_type": "code",
   "execution_count": 1,
   "metadata": {
    "collapsed": false
   },
   "outputs": [
    {
     "data": {
      "text/html": [
       "<div>\n",
       "<table border=\"1\" class=\"dataframe\">\n",
       "  <thead>\n",
       "    <tr style=\"text-align: right;\">\n",
       "      <th></th>\n",
       "      <th>race</th>\n",
       "      <th>call</th>\n",
       "    </tr>\n",
       "  </thead>\n",
       "  <tbody>\n",
       "    <tr>\n",
       "      <th>0</th>\n",
       "      <td>w</td>\n",
       "      <td>0.0</td>\n",
       "    </tr>\n",
       "    <tr>\n",
       "      <th>1</th>\n",
       "      <td>w</td>\n",
       "      <td>0.0</td>\n",
       "    </tr>\n",
       "    <tr>\n",
       "      <th>2</th>\n",
       "      <td>b</td>\n",
       "      <td>0.0</td>\n",
       "    </tr>\n",
       "    <tr>\n",
       "      <th>3</th>\n",
       "      <td>b</td>\n",
       "      <td>0.0</td>\n",
       "    </tr>\n",
       "    <tr>\n",
       "      <th>4</th>\n",
       "      <td>w</td>\n",
       "      <td>0.0</td>\n",
       "    </tr>\n",
       "  </tbody>\n",
       "</table>\n",
       "</div>"
      ],
      "text/plain": [
       "  race  call\n",
       "0    w   0.0\n",
       "1    w   0.0\n",
       "2    b   0.0\n",
       "3    b   0.0\n",
       "4    w   0.0"
      ]
     },
     "execution_count": 1,
     "metadata": {},
     "output_type": "execute_result"
    }
   ],
   "source": [
    "import pandas as pd\n",
    "import numpy as np\n",
    "from scipy import stats\n",
    "df = pd.io.stata.read_stata('data/us_job_market_discrimination.dta')\n",
    "\n",
    "pd.set_option('display.max_columns', 200)\n",
    "df[['race','call']].head() # main variables are 'race' and 'call'"
   ]
  },
  {
   "cell_type": "code",
   "execution_count": 2,
   "metadata": {
    "collapsed": false
   },
   "outputs": [
    {
     "data": {
      "text/html": [
       "<div>\n",
       "<table border=\"1\" class=\"dataframe\">\n",
       "  <thead>\n",
       "    <tr style=\"text-align: right;\">\n",
       "      <th></th>\n",
       "      <th>race</th>\n",
       "      <th>call</th>\n",
       "    </tr>\n",
       "  </thead>\n",
       "  <tbody>\n",
       "    <tr>\n",
       "      <th>0</th>\n",
       "      <td>w</td>\n",
       "      <td>0</td>\n",
       "    </tr>\n",
       "    <tr>\n",
       "      <th>1</th>\n",
       "      <td>w</td>\n",
       "      <td>0</td>\n",
       "    </tr>\n",
       "    <tr>\n",
       "      <th>2</th>\n",
       "      <td>b</td>\n",
       "      <td>0</td>\n",
       "    </tr>\n",
       "    <tr>\n",
       "      <th>3</th>\n",
       "      <td>b</td>\n",
       "      <td>0</td>\n",
       "    </tr>\n",
       "    <tr>\n",
       "      <th>4</th>\n",
       "      <td>w</td>\n",
       "      <td>0</td>\n",
       "    </tr>\n",
       "  </tbody>\n",
       "</table>\n",
       "</div>"
      ],
      "text/plain": [
       "  race  call\n",
       "0    w     0\n",
       "1    w     0\n",
       "2    b     0\n",
       "3    b     0\n",
       "4    w     0"
      ]
     },
     "execution_count": 2,
     "metadata": {},
     "output_type": "execute_result"
    }
   ],
   "source": [
    "df['call'] = df['call'].astype(int) # change variable 'call' to be an integer \n",
    "df_call = df[['race','call']]\n",
    "df_call.head()\n"
   ]
  },
  {
   "cell_type": "code",
   "execution_count": 3,
   "metadata": {
    "collapsed": false
   },
   "outputs": [
    {
     "name": "stdout",
     "output_type": "stream",
     "text": [
      "Total black sample = 2435, 157 called (prob = 0.0645).\n",
      "Total white sample = 2435, 235 called (prob = 0.0965).\n"
     ]
    }
   ],
   "source": [
    "Black_called = sum(df_call[df_call.race=='b'].call)\n",
    "White_called = sum(df_call[df_call.race=='w'].call)\n",
    "Black_total = len(df_call[df_call.race=='b'].call)\n",
    "White_total = len(df_call[df_call.race=='b'].call)\n",
    "\n",
    "Black_pct = Black_called/Black_total\n",
    "White_pct = White_called/White_total\n",
    "\n",
    "print('Total black sample = ' + str(Black_total) + ', ' + str(Black_called) + ' called (prob = ' + \"{0:.4f}\".format(Black_pct) + ').')\n",
    "print('Total white sample = ' + str(White_total) + ', ' + str(White_called) + ' called (prob = ' + \"{0:.4f}\".format(White_pct) + ').')"
   ]
  },
  {
   "cell_type": "markdown",
   "metadata": {},
   "source": [
    "#### Observations\n",
    "* Overall, being white seems to have higher probability of being called (9.7%) than being black (6.45%)\n",
    "\n",
    "#### [Question 1] What test is appropriate for this problem? Does CLT apply?\n",
    "* We should use two-sample two-sided t-test on probability of being called (mean of variable \"call\").\n",
    "* The two samples are black (race == b) and white (race == white). \n",
    "* Sample size is rather large, 2435 for both black and white, so we can apply CLT to the test.  \n",
    "\n",
    "#### [Question 2]  What are the null and alternate hypotheses?\n",
    "* Null hypothesis is that the probability of being called is the same between white and black.\n",
    "* Alternate hypothesis is that the probability of being called is different between white and black. \n"
   ]
  },
  {
   "cell_type": "markdown",
   "metadata": {
    "collapsed": false
   },
   "source": [
    "#### [Question 3] Compute margin of error, confidence interval, and p-value."
   ]
  },
  {
   "cell_type": "code",
   "execution_count": 7,
   "metadata": {
    "collapsed": false
   },
   "outputs": [
    {
     "name": "stdout",
     "output_type": "stream",
     "text": [
      "Null hypothesis: prob(call|being white) - prob(call|being black) = 0\n",
      "---------\n",
      "difference in mean = 0.0320\n",
      "estimated std of sampling diff in mean = 0.0078\n",
      "margin of error = 0.0153\n",
      "confidence interval (95% CI) : [0.0168, 0.0473]\n",
      "t_statistic = 4.11470526672\n",
      "---------\n",
      "Python built-in t-test: \n",
      "---------\n"
     ]
    },
    {
     "data": {
      "text/plain": [
       "Ttest_indResult(statistic=4.114705266723095, pvalue=3.9408025140695284e-05)"
      ]
     },
     "execution_count": 7,
     "metadata": {},
     "output_type": "execute_result"
    }
   ],
   "source": [
    "print(\"Null hypothesis: prob(call|being white) - prob(call|being black) = 0\")\n",
    "print(\"---------\")\n",
    "\n",
    "diff_mean = White_pct - Black_pct\n",
    "\n",
    "print(\"difference in mean = \" + \"{0:.4f}\".format(diff_mean))\n",
    "\n",
    "var_Black_sample = (Black_pct*(1-Black_pct))*(Black_total)/(Black_total-1)\n",
    "var_White_sample = White_pct*(1-White_pct)*(Black_total)/(Black_total-1)\n",
    "\n",
    "sigma = np.sqrt( var_Black_sample/Black_total + var_White_sample/White_total ) \n",
    "print(\"estimated std of sampling diff in mean = \" + \"{0:.4f}\".format(sigma))\n",
    "\n",
    "t_critical = stats.t.ppf( q = 0.975, df = Black_total-1 )\n",
    "\n",
    "margin_of_error = sigma*t_critical\n",
    "print(\"margin of error = \" + \"{0:.4f}\".format(margin_of_error))\n",
    "\n",
    "CI = (diff_mean - margin_of_error, diff_mean + margin_of_error)\n",
    "print(\"confidence interval (95% CI) : [\" + \"{0:.4f}\".format(CI[0]) + ', ' + \"{0:.4f}\".format(CI[1]) + ']')\n",
    "\n",
    "t_statistic = diff_mean/sigma\n",
    "print('t_statistic = ' + str(t_statistic))\n",
    "\n",
    "print(\"---------\")\n",
    "print('Python built-in t-test: ')\n",
    "print(\"---------\")\n",
    "black_call = np.array(df[df['race']=='b']['call'])\n",
    "white_call = np.array(df[df['race']=='w']['call'])\n",
    "stats.ttest_ind(white_call,black_call)"
   ]
  },
  {
   "cell_type": "markdown",
   "metadata": {
    "collapsed": true
   },
   "source": [
    "* pvalue is extremely low and we reject the null hypothesis that probability of being called is the same between black and white\n",
    "#### [Question 4] Write a story describing the statistical significance in the context or the original problem.\n",
    "\n",
    "The experiment is to randomly assign identical resumes to black-sounding or white-sounding names and see the response of employers. Having a white-sounding name in the resume increases probability of being called by 3.2% than having a black-sounding name. Other things constant, there seems to be racial discrimination in the US job market.     "
   ]
  },
  {
   "cell_type": "markdown",
   "metadata": {},
   "source": [
    "#### [Question 5] Does your analysis mean that race/name is the most important factor in callback success? Why or why not? If not, how would you amend your analysis?\n",
    "\n",
    "No, this experiment controls for all other potentially important variables constant and see if race/name can predict the probability of being called. To be able to see what other factors are important, we can also use other variables and perform logistic regression. "
   ]
  }
 ],
 "metadata": {
  "anaconda-cloud": {},
  "kernelspec": {
   "display_name": "Python [Root]",
   "language": "python",
   "name": "Python [Root]"
  },
  "language_info": {
   "codemirror_mode": {
    "name": "ipython",
    "version": 3
   },
   "file_extension": ".py",
   "mimetype": "text/x-python",
   "name": "python",
   "nbconvert_exporter": "python",
   "pygments_lexer": "ipython3",
   "version": "3.5.2"
  }
 },
 "nbformat": 4,
 "nbformat_minor": 0
}
